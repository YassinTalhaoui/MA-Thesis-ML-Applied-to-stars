{
 "cells": [
  {
   "cell_type": "markdown",
   "id": "285810ff",
   "metadata": {
    "papermill": {
     "duration": 0.00774,
     "end_time": "2025-02-11T22:57:19.753115",
     "exception": false,
     "start_time": "2025-02-11T22:57:19.745375",
     "status": "completed"
    },
    "tags": []
   },
   "source": [
    "# Import libraries"
   ]
  },
  {
   "cell_type": "code",
   "execution_count": 1,
   "id": "70e1a420",
   "metadata": {
    "execution": {
     "iopub.execute_input": "2025-02-11T22:57:19.766334Z",
     "iopub.status.busy": "2025-02-11T22:57:19.765859Z",
     "iopub.status.idle": "2025-02-11T22:57:23.097454Z",
     "shell.execute_reply": "2025-02-11T22:57:23.096516Z"
    },
    "papermill": {
     "duration": 3.340374,
     "end_time": "2025-02-11T22:57:23.099445",
     "exception": false,
     "start_time": "2025-02-11T22:57:19.759071",
     "status": "completed"
    },
    "tags": []
   },
   "outputs": [],
   "source": [
    "import pandas as pd\n",
    "import numpy as np\n",
    "import matplotlib.pyplot as plt\n",
    "import seaborn as sns\n",
    "from sklearn.model_selection import train_test_split\n",
    "from sklearn.preprocessing import LabelEncoder, StandardScaler\n",
    "from sklearn.ensemble import RandomForestClassifier\n",
    "from sklearn.metrics import classification_report, confusion_matrix, accuracy_score"
   ]
  },
  {
   "cell_type": "code",
   "execution_count": 2,
   "id": "307005a9",
   "metadata": {
    "execution": {
     "iopub.execute_input": "2025-02-11T22:57:23.112542Z",
     "iopub.status.busy": "2025-02-11T22:57:23.112075Z",
     "iopub.status.idle": "2025-02-11T22:57:23.123673Z",
     "shell.execute_reply": "2025-02-11T22:57:23.122363Z"
    },
    "papermill": {
     "duration": 0.019961,
     "end_time": "2025-02-11T22:57:23.125298",
     "exception": false,
     "start_time": "2025-02-11T22:57:23.105337",
     "status": "completed"
    },
    "tags": []
   },
   "outputs": [
    {
     "name": "stdout",
     "output_type": "stream",
     "text": [
      "/kaggle/input/star-dataset/6 class csv.csv\n"
     ]
    }
   ],
   "source": [
    "# This Python 3 environment comes with many helpful analytics libraries installed\n",
    "# It is defined by the kaggle/python Docker image: https://github.com/kaggle/docker-python\n",
    "# For example, here's several helpful packages to load\n",
    "\n",
    "# Input data files are available in the read-only \"../input/\" directory\n",
    "# For example, running this (by clicking run or pressing Shift+Enter) will list all files under the input directory\n",
    "\n",
    "import os\n",
    "for dirname, _, filenames in os.walk('/kaggle/input'):\n",
    "    for filename in filenames:\n",
    "        print(os.path.join(dirname, filename))\n",
    "\n",
    "# You can write up to 20GB to the current directory (/kaggle/working/) that gets preserved as output when you create a version using \"Save & Run All\" \n",
    "# You can also write temporary files to /kaggle/temp/, but they won't be saved outside of the current session"
   ]
  },
  {
   "cell_type": "markdown",
   "id": "728efbd3",
   "metadata": {
    "papermill": {
     "duration": 0.005468,
     "end_time": "2025-02-11T22:57:23.136738",
     "exception": false,
     "start_time": "2025-02-11T22:57:23.131270",
     "status": "completed"
    },
    "tags": []
   },
   "source": [
    "# Import dataset as a pandas dataframe"
   ]
  },
  {
   "cell_type": "code",
   "execution_count": 3,
   "id": "62f2df95",
   "metadata": {
    "execution": {
     "iopub.execute_input": "2025-02-11T22:57:23.149391Z",
     "iopub.status.busy": "2025-02-11T22:57:23.149030Z",
     "iopub.status.idle": "2025-02-11T22:57:23.193938Z",
     "shell.execute_reply": "2025-02-11T22:57:23.192935Z"
    },
    "papermill": {
     "duration": 0.053453,
     "end_time": "2025-02-11T22:57:23.195757",
     "exception": false,
     "start_time": "2025-02-11T22:57:23.142304",
     "status": "completed"
    },
    "tags": []
   },
   "outputs": [
    {
     "data": {
      "text/html": [
       "<div>\n",
       "<style scoped>\n",
       "    .dataframe tbody tr th:only-of-type {\n",
       "        vertical-align: middle;\n",
       "    }\n",
       "\n",
       "    .dataframe tbody tr th {\n",
       "        vertical-align: top;\n",
       "    }\n",
       "\n",
       "    .dataframe thead th {\n",
       "        text-align: right;\n",
       "    }\n",
       "</style>\n",
       "<table border=\"1\" class=\"dataframe\">\n",
       "  <thead>\n",
       "    <tr style=\"text-align: right;\">\n",
       "      <th></th>\n",
       "      <th>Temperature (K)</th>\n",
       "      <th>Luminosity(L/Lo)</th>\n",
       "      <th>Radius(R/Ro)</th>\n",
       "      <th>Absolute magnitude(Mv)</th>\n",
       "      <th>Star type</th>\n",
       "      <th>Star color</th>\n",
       "      <th>Spectral Class</th>\n",
       "    </tr>\n",
       "  </thead>\n",
       "  <tbody>\n",
       "    <tr>\n",
       "      <th>0</th>\n",
       "      <td>3068</td>\n",
       "      <td>0.002400</td>\n",
       "      <td>0.1700</td>\n",
       "      <td>16.12</td>\n",
       "      <td>0</td>\n",
       "      <td>Red</td>\n",
       "      <td>M</td>\n",
       "    </tr>\n",
       "    <tr>\n",
       "      <th>1</th>\n",
       "      <td>3042</td>\n",
       "      <td>0.000500</td>\n",
       "      <td>0.1542</td>\n",
       "      <td>16.60</td>\n",
       "      <td>0</td>\n",
       "      <td>Red</td>\n",
       "      <td>M</td>\n",
       "    </tr>\n",
       "    <tr>\n",
       "      <th>2</th>\n",
       "      <td>2600</td>\n",
       "      <td>0.000300</td>\n",
       "      <td>0.1020</td>\n",
       "      <td>18.70</td>\n",
       "      <td>0</td>\n",
       "      <td>Red</td>\n",
       "      <td>M</td>\n",
       "    </tr>\n",
       "    <tr>\n",
       "      <th>3</th>\n",
       "      <td>2800</td>\n",
       "      <td>0.000200</td>\n",
       "      <td>0.1600</td>\n",
       "      <td>16.65</td>\n",
       "      <td>0</td>\n",
       "      <td>Red</td>\n",
       "      <td>M</td>\n",
       "    </tr>\n",
       "    <tr>\n",
       "      <th>4</th>\n",
       "      <td>1939</td>\n",
       "      <td>0.000138</td>\n",
       "      <td>0.1030</td>\n",
       "      <td>20.06</td>\n",
       "      <td>0</td>\n",
       "      <td>Red</td>\n",
       "      <td>M</td>\n",
       "    </tr>\n",
       "    <tr>\n",
       "      <th>...</th>\n",
       "      <td>...</td>\n",
       "      <td>...</td>\n",
       "      <td>...</td>\n",
       "      <td>...</td>\n",
       "      <td>...</td>\n",
       "      <td>...</td>\n",
       "      <td>...</td>\n",
       "    </tr>\n",
       "    <tr>\n",
       "      <th>235</th>\n",
       "      <td>38940</td>\n",
       "      <td>374830.000000</td>\n",
       "      <td>1356.0000</td>\n",
       "      <td>-9.93</td>\n",
       "      <td>5</td>\n",
       "      <td>Blue</td>\n",
       "      <td>O</td>\n",
       "    </tr>\n",
       "    <tr>\n",
       "      <th>236</th>\n",
       "      <td>30839</td>\n",
       "      <td>834042.000000</td>\n",
       "      <td>1194.0000</td>\n",
       "      <td>-10.63</td>\n",
       "      <td>5</td>\n",
       "      <td>Blue</td>\n",
       "      <td>O</td>\n",
       "    </tr>\n",
       "    <tr>\n",
       "      <th>237</th>\n",
       "      <td>8829</td>\n",
       "      <td>537493.000000</td>\n",
       "      <td>1423.0000</td>\n",
       "      <td>-10.73</td>\n",
       "      <td>5</td>\n",
       "      <td>White</td>\n",
       "      <td>A</td>\n",
       "    </tr>\n",
       "    <tr>\n",
       "      <th>238</th>\n",
       "      <td>9235</td>\n",
       "      <td>404940.000000</td>\n",
       "      <td>1112.0000</td>\n",
       "      <td>-11.23</td>\n",
       "      <td>5</td>\n",
       "      <td>White</td>\n",
       "      <td>A</td>\n",
       "    </tr>\n",
       "    <tr>\n",
       "      <th>239</th>\n",
       "      <td>37882</td>\n",
       "      <td>294903.000000</td>\n",
       "      <td>1783.0000</td>\n",
       "      <td>-7.80</td>\n",
       "      <td>5</td>\n",
       "      <td>Blue</td>\n",
       "      <td>O</td>\n",
       "    </tr>\n",
       "  </tbody>\n",
       "</table>\n",
       "<p>240 rows × 7 columns</p>\n",
       "</div>"
      ],
      "text/plain": [
       "     Temperature (K)  Luminosity(L/Lo)  Radius(R/Ro)  Absolute magnitude(Mv)  \\\n",
       "0               3068          0.002400        0.1700                   16.12   \n",
       "1               3042          0.000500        0.1542                   16.60   \n",
       "2               2600          0.000300        0.1020                   18.70   \n",
       "3               2800          0.000200        0.1600                   16.65   \n",
       "4               1939          0.000138        0.1030                   20.06   \n",
       "..               ...               ...           ...                     ...   \n",
       "235            38940     374830.000000     1356.0000                   -9.93   \n",
       "236            30839     834042.000000     1194.0000                  -10.63   \n",
       "237             8829     537493.000000     1423.0000                  -10.73   \n",
       "238             9235     404940.000000     1112.0000                  -11.23   \n",
       "239            37882     294903.000000     1783.0000                   -7.80   \n",
       "\n",
       "     Star type Star color Spectral Class  \n",
       "0            0        Red              M  \n",
       "1            0        Red              M  \n",
       "2            0        Red              M  \n",
       "3            0        Red              M  \n",
       "4            0        Red              M  \n",
       "..         ...        ...            ...  \n",
       "235          5       Blue              O  \n",
       "236          5       Blue              O  \n",
       "237          5      White              A  \n",
       "238          5      White              A  \n",
       "239          5       Blue              O  \n",
       "\n",
       "[240 rows x 7 columns]"
      ]
     },
     "execution_count": 3,
     "metadata": {},
     "output_type": "execute_result"
    }
   ],
   "source": [
    "df = pd.read_csv(\"/kaggle/input/star-dataset/6 class csv.csv\")\n",
    "df"
   ]
  },
  {
   "cell_type": "markdown",
   "id": "98838a54",
   "metadata": {
    "papermill": {
     "duration": 0.005925,
     "end_time": "2025-02-11T22:57:23.208022",
     "exception": false,
     "start_time": "2025-02-11T22:57:23.202097",
     "status": "completed"
    },
    "tags": []
   },
   "source": [
    "# Data exploration"
   ]
  },
  {
   "cell_type": "markdown",
   "id": "a515fd7f",
   "metadata": {
    "papermill": {
     "duration": 0.005787,
     "end_time": "2025-02-11T22:57:23.219888",
     "exception": false,
     "start_time": "2025-02-11T22:57:23.214101",
     "status": "completed"
    },
    "tags": []
   },
   "source": [
    "We have no missing values :"
   ]
  },
  {
   "cell_type": "code",
   "execution_count": 4,
   "id": "cdc666d2",
   "metadata": {
    "execution": {
     "iopub.execute_input": "2025-02-11T22:57:23.233128Z",
     "iopub.status.busy": "2025-02-11T22:57:23.232792Z",
     "iopub.status.idle": "2025-02-11T22:57:23.257506Z",
     "shell.execute_reply": "2025-02-11T22:57:23.256361Z"
    },
    "papermill": {
     "duration": 0.033371,
     "end_time": "2025-02-11T22:57:23.259188",
     "exception": false,
     "start_time": "2025-02-11T22:57:23.225817",
     "status": "completed"
    },
    "tags": []
   },
   "outputs": [
    {
     "name": "stdout",
     "output_type": "stream",
     "text": [
      "<class 'pandas.core.frame.DataFrame'>\n",
      "RangeIndex: 240 entries, 0 to 239\n",
      "Data columns (total 7 columns):\n",
      " #   Column                  Non-Null Count  Dtype  \n",
      "---  ------                  --------------  -----  \n",
      " 0   Temperature (K)         240 non-null    int64  \n",
      " 1   Luminosity(L/Lo)        240 non-null    float64\n",
      " 2   Radius(R/Ro)            240 non-null    float64\n",
      " 3   Absolute magnitude(Mv)  240 non-null    float64\n",
      " 4   Star type               240 non-null    int64  \n",
      " 5   Star color              240 non-null    object \n",
      " 6   Spectral Class          240 non-null    object \n",
      "dtypes: float64(3), int64(2), object(2)\n",
      "memory usage: 13.2+ KB\n"
     ]
    }
   ],
   "source": [
    "df.info()"
   ]
  },
  {
   "cell_type": "markdown",
   "id": "52f092a8",
   "metadata": {
    "papermill": {
     "duration": 0.005872,
     "end_time": "2025-02-11T22:57:23.271355",
     "exception": false,
     "start_time": "2025-02-11T22:57:23.265483",
     "status": "completed"
    },
    "tags": []
   },
   "source": [
    "## Some stats"
   ]
  },
  {
   "cell_type": "code",
   "execution_count": 5,
   "id": "9f752d49",
   "metadata": {
    "execution": {
     "iopub.execute_input": "2025-02-11T22:57:23.284863Z",
     "iopub.status.busy": "2025-02-11T22:57:23.284471Z",
     "iopub.status.idle": "2025-02-11T22:57:23.309792Z",
     "shell.execute_reply": "2025-02-11T22:57:23.308516Z"
    },
    "papermill": {
     "duration": 0.034185,
     "end_time": "2025-02-11T22:57:23.311704",
     "exception": false,
     "start_time": "2025-02-11T22:57:23.277519",
     "status": "completed"
    },
    "tags": []
   },
   "outputs": [
    {
     "data": {
      "text/html": [
       "<div>\n",
       "<style scoped>\n",
       "    .dataframe tbody tr th:only-of-type {\n",
       "        vertical-align: middle;\n",
       "    }\n",
       "\n",
       "    .dataframe tbody tr th {\n",
       "        vertical-align: top;\n",
       "    }\n",
       "\n",
       "    .dataframe thead th {\n",
       "        text-align: right;\n",
       "    }\n",
       "</style>\n",
       "<table border=\"1\" class=\"dataframe\">\n",
       "  <thead>\n",
       "    <tr style=\"text-align: right;\">\n",
       "      <th></th>\n",
       "      <th>Temperature (K)</th>\n",
       "      <th>Luminosity(L/Lo)</th>\n",
       "      <th>Radius(R/Ro)</th>\n",
       "      <th>Absolute magnitude(Mv)</th>\n",
       "      <th>Star type</th>\n",
       "    </tr>\n",
       "  </thead>\n",
       "  <tbody>\n",
       "    <tr>\n",
       "      <th>count</th>\n",
       "      <td>240.000000</td>\n",
       "      <td>240.000000</td>\n",
       "      <td>240.000000</td>\n",
       "      <td>240.000000</td>\n",
       "      <td>240.000000</td>\n",
       "    </tr>\n",
       "    <tr>\n",
       "      <th>mean</th>\n",
       "      <td>10497.462500</td>\n",
       "      <td>107188.361635</td>\n",
       "      <td>237.157781</td>\n",
       "      <td>4.382396</td>\n",
       "      <td>2.500000</td>\n",
       "    </tr>\n",
       "    <tr>\n",
       "      <th>std</th>\n",
       "      <td>9552.425037</td>\n",
       "      <td>179432.244940</td>\n",
       "      <td>517.155763</td>\n",
       "      <td>10.532512</td>\n",
       "      <td>1.711394</td>\n",
       "    </tr>\n",
       "    <tr>\n",
       "      <th>min</th>\n",
       "      <td>1939.000000</td>\n",
       "      <td>0.000080</td>\n",
       "      <td>0.008400</td>\n",
       "      <td>-11.920000</td>\n",
       "      <td>0.000000</td>\n",
       "    </tr>\n",
       "    <tr>\n",
       "      <th>25%</th>\n",
       "      <td>3344.250000</td>\n",
       "      <td>0.000865</td>\n",
       "      <td>0.102750</td>\n",
       "      <td>-6.232500</td>\n",
       "      <td>1.000000</td>\n",
       "    </tr>\n",
       "    <tr>\n",
       "      <th>50%</th>\n",
       "      <td>5776.000000</td>\n",
       "      <td>0.070500</td>\n",
       "      <td>0.762500</td>\n",
       "      <td>8.313000</td>\n",
       "      <td>2.500000</td>\n",
       "    </tr>\n",
       "    <tr>\n",
       "      <th>75%</th>\n",
       "      <td>15055.500000</td>\n",
       "      <td>198050.000000</td>\n",
       "      <td>42.750000</td>\n",
       "      <td>13.697500</td>\n",
       "      <td>4.000000</td>\n",
       "    </tr>\n",
       "    <tr>\n",
       "      <th>max</th>\n",
       "      <td>40000.000000</td>\n",
       "      <td>849420.000000</td>\n",
       "      <td>1948.500000</td>\n",
       "      <td>20.060000</td>\n",
       "      <td>5.000000</td>\n",
       "    </tr>\n",
       "  </tbody>\n",
       "</table>\n",
       "</div>"
      ],
      "text/plain": [
       "       Temperature (K)  Luminosity(L/Lo)  Radius(R/Ro)  \\\n",
       "count       240.000000        240.000000    240.000000   \n",
       "mean      10497.462500     107188.361635    237.157781   \n",
       "std        9552.425037     179432.244940    517.155763   \n",
       "min        1939.000000          0.000080      0.008400   \n",
       "25%        3344.250000          0.000865      0.102750   \n",
       "50%        5776.000000          0.070500      0.762500   \n",
       "75%       15055.500000     198050.000000     42.750000   \n",
       "max       40000.000000     849420.000000   1948.500000   \n",
       "\n",
       "       Absolute magnitude(Mv)   Star type  \n",
       "count              240.000000  240.000000  \n",
       "mean                 4.382396    2.500000  \n",
       "std                 10.532512    1.711394  \n",
       "min                -11.920000    0.000000  \n",
       "25%                 -6.232500    1.000000  \n",
       "50%                  8.313000    2.500000  \n",
       "75%                 13.697500    4.000000  \n",
       "max                 20.060000    5.000000  "
      ]
     },
     "execution_count": 5,
     "metadata": {},
     "output_type": "execute_result"
    }
   ],
   "source": [
    "df.describe()\n"
   ]
  },
  {
   "cell_type": "markdown",
   "id": "568d6460",
   "metadata": {
    "papermill": {
     "duration": 0.006445,
     "end_time": "2025-02-11T22:57:23.324731",
     "exception": false,
     "start_time": "2025-02-11T22:57:23.318286",
     "status": "completed"
    },
    "tags": []
   },
   "source": [
    "## Cleaning"
   ]
  },
  {
   "cell_type": "markdown",
   "id": "4548f9c0",
   "metadata": {
    "papermill": {
     "duration": 0.006092,
     "end_time": "2025-02-11T22:57:23.337539",
     "exception": false,
     "start_time": "2025-02-11T22:57:23.331447",
     "status": "completed"
    },
    "tags": []
   },
   "source": [
    "rename columns"
   ]
  },
  {
   "cell_type": "code",
   "execution_count": 6,
   "id": "b7e0d074",
   "metadata": {
    "execution": {
     "iopub.execute_input": "2025-02-11T22:57:23.351763Z",
     "iopub.status.busy": "2025-02-11T22:57:23.351368Z",
     "iopub.status.idle": "2025-02-11T22:57:23.356280Z",
     "shell.execute_reply": "2025-02-11T22:57:23.355219Z"
    },
    "papermill": {
     "duration": 0.013681,
     "end_time": "2025-02-11T22:57:23.357917",
     "exception": false,
     "start_time": "2025-02-11T22:57:23.344236",
     "status": "completed"
    },
    "tags": []
   },
   "outputs": [],
   "source": [
    "# Clean up column names by removing :\n",
    "# any text in parentheses, stripping whitespace, and replacing spaces with underscores\n",
    "df.columns = df.columns.map(lambda col:col.split(\"(\")[0].strip().replace(\" \", \"_\"))"
   ]
  },
  {
   "cell_type": "markdown",
   "id": "fa102f55",
   "metadata": {
    "papermill": {
     "duration": 0.006175,
     "end_time": "2025-02-11T22:57:23.370532",
     "exception": false,
     "start_time": "2025-02-11T22:57:23.364357",
     "status": "completed"
    },
    "tags": []
   },
   "source": [
    "Check new columns name"
   ]
  },
  {
   "cell_type": "code",
   "execution_count": 7,
   "id": "b3e99744",
   "metadata": {
    "execution": {
     "iopub.execute_input": "2025-02-11T22:57:23.384856Z",
     "iopub.status.busy": "2025-02-11T22:57:23.384477Z",
     "iopub.status.idle": "2025-02-11T22:57:23.390446Z",
     "shell.execute_reply": "2025-02-11T22:57:23.389424Z"
    },
    "papermill": {
     "duration": 0.014922,
     "end_time": "2025-02-11T22:57:23.392095",
     "exception": false,
     "start_time": "2025-02-11T22:57:23.377173",
     "status": "completed"
    },
    "tags": []
   },
   "outputs": [
    {
     "data": {
      "text/plain": [
       "Index(['Temperature', 'Luminosity', 'Radius', 'Absolute_magnitude',\n",
       "       'Star_type', 'Star_color', 'Spectral_Class'],\n",
       "      dtype='object')"
      ]
     },
     "execution_count": 7,
     "metadata": {},
     "output_type": "execute_result"
    }
   ],
   "source": [
    "df.columns"
   ]
  },
  {
   "cell_type": "markdown",
   "id": "621b0a8d",
   "metadata": {
    "papermill": {
     "duration": 0.006012,
     "end_time": "2025-02-11T22:57:23.404805",
     "exception": false,
     "start_time": "2025-02-11T22:57:23.398793",
     "status": "completed"
    },
    "tags": []
   },
   "source": [
    "No duplicates :"
   ]
  },
  {
   "cell_type": "code",
   "execution_count": 8,
   "id": "8888200e",
   "metadata": {
    "execution": {
     "iopub.execute_input": "2025-02-11T22:57:23.419492Z",
     "iopub.status.busy": "2025-02-11T22:57:23.419106Z",
     "iopub.status.idle": "2025-02-11T22:57:23.427030Z",
     "shell.execute_reply": "2025-02-11T22:57:23.426013Z"
    },
    "papermill": {
     "duration": 0.017597,
     "end_time": "2025-02-11T22:57:23.428786",
     "exception": false,
     "start_time": "2025-02-11T22:57:23.411189",
     "status": "completed"
    },
    "tags": []
   },
   "outputs": [
    {
     "data": {
      "text/plain": [
       "0"
      ]
     },
     "execution_count": 8,
     "metadata": {},
     "output_type": "execute_result"
    }
   ],
   "source": [
    "df.duplicated().sum()\n"
   ]
  },
  {
   "cell_type": "markdown",
   "id": "21e178c8",
   "metadata": {
    "papermill": {
     "duration": 0.006214,
     "end_time": "2025-02-11T22:57:23.441815",
     "exception": false,
     "start_time": "2025-02-11T22:57:23.435601",
     "status": "completed"
    },
    "tags": []
   },
   "source": [
    "Encoding categorical variables"
   ]
  },
  {
   "cell_type": "code",
   "execution_count": 9,
   "id": "4ef0747a",
   "metadata": {
    "execution": {
     "iopub.execute_input": "2025-02-11T22:57:23.456073Z",
     "iopub.status.busy": "2025-02-11T22:57:23.455467Z",
     "iopub.status.idle": "2025-02-11T22:57:23.461355Z",
     "shell.execute_reply": "2025-02-11T22:57:23.460467Z"
    },
    "papermill": {
     "duration": 0.014678,
     "end_time": "2025-02-11T22:57:23.462891",
     "exception": false,
     "start_time": "2025-02-11T22:57:23.448213",
     "status": "completed"
    },
    "tags": []
   },
   "outputs": [],
   "source": [
    "le_color = LabelEncoder()\n",
    "df['Star_color'] = le_color.fit_transform(df['Star_color'])\n",
    "\n",
    "le_spectral = LabelEncoder()\n",
    "df['Spectral_Class'] = le_spectral.fit_transform(df['Spectral_Class'])"
   ]
  },
  {
   "cell_type": "code",
   "execution_count": 10,
   "id": "1fea0b8e",
   "metadata": {
    "execution": {
     "iopub.execute_input": "2025-02-11T22:57:23.477632Z",
     "iopub.status.busy": "2025-02-11T22:57:23.477264Z",
     "iopub.status.idle": "2025-02-11T22:57:23.489723Z",
     "shell.execute_reply": "2025-02-11T22:57:23.488765Z"
    },
    "papermill": {
     "duration": 0.021397,
     "end_time": "2025-02-11T22:57:23.491306",
     "exception": false,
     "start_time": "2025-02-11T22:57:23.469909",
     "status": "completed"
    },
    "tags": []
   },
   "outputs": [
    {
     "data": {
      "text/html": [
       "<div>\n",
       "<style scoped>\n",
       "    .dataframe tbody tr th:only-of-type {\n",
       "        vertical-align: middle;\n",
       "    }\n",
       "\n",
       "    .dataframe tbody tr th {\n",
       "        vertical-align: top;\n",
       "    }\n",
       "\n",
       "    .dataframe thead th {\n",
       "        text-align: right;\n",
       "    }\n",
       "</style>\n",
       "<table border=\"1\" class=\"dataframe\">\n",
       "  <thead>\n",
       "    <tr style=\"text-align: right;\">\n",
       "      <th></th>\n",
       "      <th>Temperature</th>\n",
       "      <th>Luminosity</th>\n",
       "      <th>Radius</th>\n",
       "      <th>Absolute_magnitude</th>\n",
       "      <th>Star_type</th>\n",
       "      <th>Star_color</th>\n",
       "      <th>Spectral_Class</th>\n",
       "    </tr>\n",
       "  </thead>\n",
       "  <tbody>\n",
       "    <tr>\n",
       "      <th>0</th>\n",
       "      <td>3068</td>\n",
       "      <td>0.002400</td>\n",
       "      <td>0.1700</td>\n",
       "      <td>16.12</td>\n",
       "      <td>0</td>\n",
       "      <td>10</td>\n",
       "      <td>5</td>\n",
       "    </tr>\n",
       "    <tr>\n",
       "      <th>1</th>\n",
       "      <td>3042</td>\n",
       "      <td>0.000500</td>\n",
       "      <td>0.1542</td>\n",
       "      <td>16.60</td>\n",
       "      <td>0</td>\n",
       "      <td>10</td>\n",
       "      <td>5</td>\n",
       "    </tr>\n",
       "    <tr>\n",
       "      <th>2</th>\n",
       "      <td>2600</td>\n",
       "      <td>0.000300</td>\n",
       "      <td>0.1020</td>\n",
       "      <td>18.70</td>\n",
       "      <td>0</td>\n",
       "      <td>10</td>\n",
       "      <td>5</td>\n",
       "    </tr>\n",
       "    <tr>\n",
       "      <th>3</th>\n",
       "      <td>2800</td>\n",
       "      <td>0.000200</td>\n",
       "      <td>0.1600</td>\n",
       "      <td>16.65</td>\n",
       "      <td>0</td>\n",
       "      <td>10</td>\n",
       "      <td>5</td>\n",
       "    </tr>\n",
       "    <tr>\n",
       "      <th>4</th>\n",
       "      <td>1939</td>\n",
       "      <td>0.000138</td>\n",
       "      <td>0.1030</td>\n",
       "      <td>20.06</td>\n",
       "      <td>0</td>\n",
       "      <td>10</td>\n",
       "      <td>5</td>\n",
       "    </tr>\n",
       "    <tr>\n",
       "      <th>...</th>\n",
       "      <td>...</td>\n",
       "      <td>...</td>\n",
       "      <td>...</td>\n",
       "      <td>...</td>\n",
       "      <td>...</td>\n",
       "      <td>...</td>\n",
       "      <td>...</td>\n",
       "    </tr>\n",
       "    <tr>\n",
       "      <th>235</th>\n",
       "      <td>38940</td>\n",
       "      <td>374830.000000</td>\n",
       "      <td>1356.0000</td>\n",
       "      <td>-9.93</td>\n",
       "      <td>5</td>\n",
       "      <td>0</td>\n",
       "      <td>6</td>\n",
       "    </tr>\n",
       "    <tr>\n",
       "      <th>236</th>\n",
       "      <td>30839</td>\n",
       "      <td>834042.000000</td>\n",
       "      <td>1194.0000</td>\n",
       "      <td>-10.63</td>\n",
       "      <td>5</td>\n",
       "      <td>0</td>\n",
       "      <td>6</td>\n",
       "    </tr>\n",
       "    <tr>\n",
       "      <th>237</th>\n",
       "      <td>8829</td>\n",
       "      <td>537493.000000</td>\n",
       "      <td>1423.0000</td>\n",
       "      <td>-10.73</td>\n",
       "      <td>5</td>\n",
       "      <td>11</td>\n",
       "      <td>0</td>\n",
       "    </tr>\n",
       "    <tr>\n",
       "      <th>238</th>\n",
       "      <td>9235</td>\n",
       "      <td>404940.000000</td>\n",
       "      <td>1112.0000</td>\n",
       "      <td>-11.23</td>\n",
       "      <td>5</td>\n",
       "      <td>11</td>\n",
       "      <td>0</td>\n",
       "    </tr>\n",
       "    <tr>\n",
       "      <th>239</th>\n",
       "      <td>37882</td>\n",
       "      <td>294903.000000</td>\n",
       "      <td>1783.0000</td>\n",
       "      <td>-7.80</td>\n",
       "      <td>5</td>\n",
       "      <td>0</td>\n",
       "      <td>6</td>\n",
       "    </tr>\n",
       "  </tbody>\n",
       "</table>\n",
       "<p>240 rows × 7 columns</p>\n",
       "</div>"
      ],
      "text/plain": [
       "     Temperature     Luminosity     Radius  Absolute_magnitude  Star_type  \\\n",
       "0           3068       0.002400     0.1700               16.12          0   \n",
       "1           3042       0.000500     0.1542               16.60          0   \n",
       "2           2600       0.000300     0.1020               18.70          0   \n",
       "3           2800       0.000200     0.1600               16.65          0   \n",
       "4           1939       0.000138     0.1030               20.06          0   \n",
       "..           ...            ...        ...                 ...        ...   \n",
       "235        38940  374830.000000  1356.0000               -9.93          5   \n",
       "236        30839  834042.000000  1194.0000              -10.63          5   \n",
       "237         8829  537493.000000  1423.0000              -10.73          5   \n",
       "238         9235  404940.000000  1112.0000              -11.23          5   \n",
       "239        37882  294903.000000  1783.0000               -7.80          5   \n",
       "\n",
       "     Star_color  Spectral_Class  \n",
       "0            10               5  \n",
       "1            10               5  \n",
       "2            10               5  \n",
       "3            10               5  \n",
       "4            10               5  \n",
       "..          ...             ...  \n",
       "235           0               6  \n",
       "236           0               6  \n",
       "237          11               0  \n",
       "238          11               0  \n",
       "239           0               6  \n",
       "\n",
       "[240 rows x 7 columns]"
      ]
     },
     "execution_count": 10,
     "metadata": {},
     "output_type": "execute_result"
    }
   ],
   "source": [
    "df"
   ]
  },
  {
   "cell_type": "markdown",
   "id": "1b274ccb",
   "metadata": {
    "papermill": {
     "duration": 0.007087,
     "end_time": "2025-02-11T22:57:23.505235",
     "exception": false,
     "start_time": "2025-02-11T22:57:23.498148",
     "status": "completed"
    },
    "tags": []
   },
   "source": [
    "Correlation matrix\n"
   ]
  },
  {
   "cell_type": "code",
   "execution_count": 11,
   "id": "4082c964",
   "metadata": {
    "execution": {
     "iopub.execute_input": "2025-02-11T22:57:23.519802Z",
     "iopub.status.busy": "2025-02-11T22:57:23.519437Z",
     "iopub.status.idle": "2025-02-11T22:57:24.122140Z",
     "shell.execute_reply": "2025-02-11T22:57:24.120812Z"
    },
    "papermill": {
     "duration": 0.612868,
     "end_time": "2025-02-11T22:57:24.124792",
     "exception": false,
     "start_time": "2025-02-11T22:57:23.511924",
     "status": "completed"
    },
    "tags": []
   },
   "outputs": [
    {
     "data": {
      "image/png": "[encoded data removed]",
      "text/plain": [
       "<Figure size 1000x600 with 2 Axes>"
      ]
     },
     "metadata": {},
     "output_type": "display_data"
    }
   ],
   "source": [
    "plt.figure(figsize=(10,6))\n",
    "sns.heatmap(df.corr(), annot=True, cmap='coolwarm')\n",
    "plt.title('Feature Correlation Matrix')\n",
    "plt.show()"
   ]
  },
  {
   "cell_type": "markdown",
   "id": "572575cc",
   "metadata": {
    "papermill": {
     "duration": 0.014359,
     "end_time": "2025-02-11T22:57:24.158555",
     "exception": false,
     "start_time": "2025-02-11T22:57:24.144196",
     "status": "completed"
    },
    "tags": []
   },
   "source": [
    "# Binary classification: Selecting two classes\n"
   ]
  },
  {
   "cell_type": "code",
   "execution_count": 12,
   "id": "2006da7b",
   "metadata": {
    "execution": {
     "iopub.execute_input": "2025-02-11T22:57:24.187291Z",
     "iopub.status.busy": "2025-02-11T22:57:24.186911Z",
     "iopub.status.idle": "2025-02-11T22:57:24.195214Z",
     "shell.execute_reply": "2025-02-11T22:57:24.193773Z"
    },
    "papermill": {
     "duration": 0.025654,
     "end_time": "2025-02-11T22:57:24.197519",
     "exception": false,
     "start_time": "2025-02-11T22:57:24.171865",
     "status": "completed"
    },
    "tags": []
   },
   "outputs": [],
   "source": [
    "df_binary = df[df['Star_type'].isin([2, 3])]  # Example: White Dwarf vs. Main Sequence\n",
    "X = df_binary.drop(columns=['Star_type'])\n",
    "y = df_binary['Star_type']\n"
   ]
  },
  {
   "cell_type": "markdown",
   "id": "ae073eb8",
   "metadata": {
    "papermill": {
     "duration": 0.017946,
     "end_time": "2025-02-11T22:57:24.227885",
     "exception": false,
     "start_time": "2025-02-11T22:57:24.209939",
     "status": "completed"
    },
    "tags": []
   },
   "source": [
    "## Split data\n"
   ]
  },
  {
   "cell_type": "code",
   "execution_count": 13,
   "id": "62e1a75d",
   "metadata": {
    "execution": {
     "iopub.execute_input": "2025-02-11T22:57:24.252097Z",
     "iopub.status.busy": "2025-02-11T22:57:24.251732Z",
     "iopub.status.idle": "2025-02-11T22:57:24.259045Z",
     "shell.execute_reply": "2025-02-11T22:57:24.257992Z"
    },
    "papermill": {
     "duration": 0.020937,
     "end_time": "2025-02-11T22:57:24.261009",
     "exception": false,
     "start_time": "2025-02-11T22:57:24.240072",
     "status": "completed"
    },
    "tags": []
   },
   "outputs": [],
   "source": [
    "X_train, X_test, y_train, y_test = train_test_split(X, y, test_size=0.2, random_state=42)"
   ]
  },
  {
   "cell_type": "markdown",
   "id": "13e6c58e",
   "metadata": {
    "papermill": {
     "duration": 0.008469,
     "end_time": "2025-02-11T22:57:24.279854",
     "exception": false,
     "start_time": "2025-02-11T22:57:24.271385",
     "status": "completed"
    },
    "tags": []
   },
   "source": [
    "## Standardizing numerical features"
   ]
  },
  {
   "cell_type": "code",
   "execution_count": 14,
   "id": "29e43573",
   "metadata": {
    "execution": {
     "iopub.execute_input": "2025-02-11T22:57:24.298329Z",
     "iopub.status.busy": "2025-02-11T22:57:24.297960Z",
     "iopub.status.idle": "2025-02-11T22:57:24.307653Z",
     "shell.execute_reply": "2025-02-11T22:57:24.306426Z"
    },
    "papermill": {
     "duration": 0.020899,
     "end_time": "2025-02-11T22:57:24.309391",
     "exception": false,
     "start_time": "2025-02-11T22:57:24.288492",
     "status": "completed"
    },
    "tags": []
   },
   "outputs": [],
   "source": [
    "scaler = StandardScaler()\n",
    "X_train = scaler.fit_transform(X_train)\n",
    "X_test = scaler.transform(X_test)"
   ]
  },
  {
   "cell_type": "markdown",
   "id": "2715a12b",
   "metadata": {
    "papermill": {
     "duration": 0.00821,
     "end_time": "2025-02-11T22:57:24.326266",
     "exception": false,
     "start_time": "2025-02-11T22:57:24.318056",
     "status": "completed"
    },
    "tags": []
   },
   "source": [
    "## Train classifier (Random Forest)"
   ]
  },
  {
   "cell_type": "code",
   "execution_count": 15,
   "id": "36fd5437",
   "metadata": {
    "execution": {
     "iopub.execute_input": "2025-02-11T22:57:24.344615Z",
     "iopub.status.busy": "2025-02-11T22:57:24.344243Z",
     "iopub.status.idle": "2025-02-11T22:57:24.497643Z",
     "shell.execute_reply": "2025-02-11T22:57:24.496635Z"
    },
    "papermill": {
     "duration": 0.16496,
     "end_time": "2025-02-11T22:57:24.499655",
     "exception": false,
     "start_time": "2025-02-11T22:57:24.334695",
     "status": "completed"
    },
    "tags": []
   },
   "outputs": [],
   "source": [
    "clf = RandomForestClassifier(n_estimators=100, random_state=42)\n",
    "clf.fit(X_train, y_train)\n",
    "y_pred = clf.predict(X_test)"
   ]
  },
  {
   "cell_type": "markdown",
   "id": "7dacfe58",
   "metadata": {
    "papermill": {
     "duration": 0.008245,
     "end_time": "2025-02-11T22:57:24.517080",
     "exception": false,
     "start_time": "2025-02-11T22:57:24.508835",
     "status": "completed"
    },
    "tags": []
   },
   "source": [
    "# Evaluation"
   ]
  },
  {
   "cell_type": "code",
   "execution_count": 16,
   "id": "324f7468",
   "metadata": {
    "execution": {
     "iopub.execute_input": "2025-02-11T22:57:24.536059Z",
     "iopub.status.busy": "2025-02-11T22:57:24.535679Z",
     "iopub.status.idle": "2025-02-11T22:57:24.550942Z",
     "shell.execute_reply": "2025-02-11T22:57:24.549586Z"
    },
    "papermill": {
     "duration": 0.026743,
     "end_time": "2025-02-11T22:57:24.552563",
     "exception": false,
     "start_time": "2025-02-11T22:57:24.525820",
     "status": "completed"
    },
    "tags": []
   },
   "outputs": [
    {
     "name": "stdout",
     "output_type": "stream",
     "text": [
      "Accuracy: 1.0\n",
      "[[8 0]\n",
      " [0 8]]\n",
      "              precision    recall  f1-score   support\n",
      "\n",
      "           2       1.00      1.00      1.00         8\n",
      "           3       1.00      1.00      1.00         8\n",
      "\n",
      "    accuracy                           1.00        16\n",
      "   macro avg       1.00      1.00      1.00        16\n",
      "weighted avg       1.00      1.00      1.00        16\n",
      "\n"
     ]
    }
   ],
   "source": [
    "print(\"Accuracy:\", accuracy_score(y_test, y_pred))\n",
    "print(confusion_matrix(y_test, y_pred))\n",
    "print(classification_report(y_test, y_pred))"
   ]
  },
  {
   "cell_type": "markdown",
   "id": "ba85a8e4",
   "metadata": {
    "papermill": {
     "duration": 0.008418,
     "end_time": "2025-02-11T22:57:24.569765",
     "exception": false,
     "start_time": "2025-02-11T22:57:24.561347",
     "status": "completed"
    },
    "tags": []
   },
   "source": [
    "# Feature importance"
   ]
  },
  {
   "cell_type": "code",
   "execution_count": 17,
   "id": "92941871",
   "metadata": {
    "execution": {
     "iopub.execute_input": "2025-02-11T22:57:24.588220Z",
     "iopub.status.busy": "2025-02-11T22:57:24.587875Z",
     "iopub.status.idle": "2025-02-11T22:57:24.825385Z",
     "shell.execute_reply": "2025-02-11T22:57:24.824285Z"
    },
    "papermill": {
     "duration": 0.248721,
     "end_time": "2025-02-11T22:57:24.827109",
     "exception": false,
     "start_time": "2025-02-11T22:57:24.578388",
     "status": "completed"
    },
    "tags": []
   },
   "outputs": [
    {
     "data": {
      "image/png": "[encoded data removed]",
      "text/plain": [
       "<Figure size 640x480 with 1 Axes>"
      ]
     },
     "metadata": {},
     "output_type": "display_data"
    }
   ],
   "source": [
    "importances = pd.Series(clf.feature_importances_, index=df_binary.drop(columns=['Star_type']).columns)\n",
    "importances.sort_values().plot(kind='barh', title='Feature Importances')\n",
    "plt.show()"
   ]
  }
 ],
 "metadata": {
  "kaggle": {
   "accelerator": "none",
   "dataSources": [
    {
     "datasetId": 391127,
     "sourceId": 754362,
     "sourceType": "datasetVersion"
    }
   ],
   "dockerImageVersionId": 30886,
   "isGpuEnabled": false,
   "isInternetEnabled": false,
   "language": "python",
   "sourceType": "notebook"
  },
  "kernelspec": {
   "display_name": "Python 3",
   "language": "python",
   "name": "python3"
  },
  "language_info": {
   "codemirror_mode": {
    "name": "ipython",
    "version": 3
   },
   "file_extension": ".py",
   "mimetype": "text/x-python",
   "name": "python",
   "nbconvert_exporter": "python",
   "pygments_lexer": "ipython3",
   "version": "3.10.12"
  },
  "papermill": {
   "default_parameters": {},
   "duration": 8.667182,
   "end_time": "2025-02-11T22:57:25.557500",
   "environment_variables": {},
   "exception": null,
   "input_path": "__notebook__.ipynb",
   "output_path": "__notebook__.ipynb",
   "parameters": {},
   "start_time": "2025-02-11T22:57:16.890318",
   "version": "2.6.0"
  }
 },
 "nbformat": 4,
 "nbformat_minor": 5
}
