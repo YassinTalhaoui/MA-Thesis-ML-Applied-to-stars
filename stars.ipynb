{
 "cells": [
  {
   "cell_type": "markdown",
   "id": "597599bc",
   "metadata": {
    "papermill": {
     "duration": 0.010821,
     "end_time": "2025-02-24T14:10:48.546499",
     "exception": false,
     "start_time": "2025-02-24T14:10:48.535678",
     "status": "completed"
    },
    "tags": []
   },
   "source": [
    "# Import libraries"
   ]
  },
  {
   "cell_type": "code",
   "execution_count": 1,
   "id": "1d876533",
   "metadata": {
    "execution": {
     "iopub.execute_input": "2025-02-24T14:10:48.567046Z",
     "iopub.status.busy": "2025-02-24T14:10:48.566680Z",
     "iopub.status.idle": "2025-02-24T14:10:51.385878Z",
     "shell.execute_reply": "2025-02-24T14:10:51.384955Z"
    },
    "papermill": {
     "duration": 2.831251,
     "end_time": "2025-02-24T14:10:51.387564",
     "exception": false,
     "start_time": "2025-02-24T14:10:48.556313",
     "status": "completed"
    },
    "tags": []
   },
   "outputs": [],
   "source": [
    "import pandas as pd\n",
    "import numpy as np\n",
    "import matplotlib.pyplot as plt\n",
    "import seaborn as sns\n",
    "from sklearn.model_selection import train_test_split\n",
    "from sklearn.preprocessing import LabelEncoder, StandardScaler, RobustScaler\n",
    "from sklearn.ensemble import RandomForestClassifier\n",
    "from sklearn.metrics import classification_report, confusion_matrix, accuracy_score"
   ]
  },
  {
   "cell_type": "code",
   "execution_count": 2,
   "id": "e8e2c31b",
   "metadata": {
    "execution": {
     "iopub.execute_input": "2025-02-24T14:10:51.407776Z",
     "iopub.status.busy": "2025-02-24T14:10:51.407277Z",
     "iopub.status.idle": "2025-02-24T14:10:51.421173Z",
     "shell.execute_reply": "2025-02-24T14:10:51.420102Z"
    },
    "papermill": {
     "duration": 0.025569,
     "end_time": "2025-02-24T14:10:51.422653",
     "exception": false,
     "start_time": "2025-02-24T14:10:51.397084",
     "status": "completed"
    },
    "tags": []
   },
   "outputs": [
    {
     "name": "stdout",
     "output_type": "stream",
     "text": [
      "/kaggle/input/star-dataset/6 class csv.csv\n"
     ]
    }
   ],
   "source": [
    "# This Python 3 environment comes with many helpful analytics libraries installed\n",
    "# It is defined by the kaggle/python Docker image: https://github.com/kaggle/docker-python\n",
    "# For example, here's several helpful packages to load\n",
    "\n",
    "# Input data files are available in the read-only \"../input/\" directory\n",
    "# For example, running this (by clicking run or pressing Shift+Enter) will list all files under the input directory\n",
    "\n",
    "import os\n",
    "for dirname, _, filenames in os.walk('/kaggle/input'):\n",
    "    for filename in filenames:\n",
    "        print(os.path.join(dirname, filename))\n",
    "\n",
    "# You can write up to 20GB to the current directory (/kaggle/working/) that gets preserved as output when you create a version using \"Save & Run All\" \n",
    "# You can also write temporary files to /kaggle/temp/, but they won't be saved outside of the current session"
   ]
  },
  {
   "cell_type": "markdown",
   "id": "cf347ea2",
   "metadata": {
    "papermill": {
     "duration": 0.008989,
     "end_time": "2025-02-24T14:10:51.441177",
     "exception": false,
     "start_time": "2025-02-24T14:10:51.432188",
     "status": "completed"
    },
    "tags": []
   },
   "source": [
    "# Import dataset as a pandas dataframe"
   ]
  },
  {
   "cell_type": "code",
   "execution_count": 3,
   "id": "def17d02",
   "metadata": {
    "execution": {
     "iopub.execute_input": "2025-02-24T14:10:51.461835Z",
     "iopub.status.busy": "2025-02-24T14:10:51.461473Z",
     "iopub.status.idle": "2025-02-24T14:10:51.477074Z",
     "shell.execute_reply": "2025-02-24T14:10:51.476237Z"
    },
    "papermill": {
     "duration": 0.028334,
     "end_time": "2025-02-24T14:10:51.478834",
     "exception": false,
     "start_time": "2025-02-24T14:10:51.450500",
     "status": "completed"
    },
    "tags": []
   },
   "outputs": [],
   "source": [
    "# Load dataset\n",
    "df = pd.read_csv(\"/kaggle/input/star-dataset/6 class csv.csv\")"
   ]
  },
  {
   "cell_type": "markdown",
   "id": "6233b20e",
   "metadata": {
    "papermill": {
     "duration": 0.009193,
     "end_time": "2025-02-24T14:10:51.497743",
     "exception": false,
     "start_time": "2025-02-24T14:10:51.488550",
     "status": "completed"
    },
    "tags": []
   },
   "source": [
    "# Data exploration"
   ]
  },
  {
   "cell_type": "markdown",
   "id": "83c3d6c2",
   "metadata": {
    "papermill": {
     "duration": 0.008979,
     "end_time": "2025-02-24T14:10:51.516273",
     "exception": false,
     "start_time": "2025-02-24T14:10:51.507294",
     "status": "completed"
    },
    "tags": []
   },
   "source": [
    "Before building a classification model, it is essential to explore and understand the dataset to identify patterns, relationships, and potential preprocessing needs. This section focuses on analyzing the dataset’s structure, checking for missing values, visualizing distributions, and understanding feature correlations."
   ]
  },
  {
   "cell_type": "markdown",
   "id": "84887ed8",
   "metadata": {
    "papermill": {
     "duration": 0.008956,
     "end_time": "2025-02-24T14:10:51.534558",
     "exception": false,
     "start_time": "2025-02-24T14:10:51.525602",
     "status": "completed"
    },
    "tags": []
   },
   "source": [
    "### Dataset Overview"
   ]
  },
  {
   "cell_type": "markdown",
   "id": "377778ce",
   "metadata": {
    "papermill": {
     "duration": 0.008973,
     "end_time": "2025-02-24T14:10:51.552842",
     "exception": false,
     "start_time": "2025-02-24T14:10:51.543869",
     "status": "completed"
    },
    "tags": []
   },
   "source": [
    "We begin by displaying its first few rows to understand its structure and the type of data it contains."
   ]
  },
  {
   "cell_type": "code",
   "execution_count": 4,
   "id": "3f0dd95e",
   "metadata": {
    "execution": {
     "iopub.execute_input": "2025-02-24T14:10:51.572602Z",
     "iopub.status.busy": "2025-02-24T14:10:51.572256Z",
     "iopub.status.idle": "2025-02-24T14:10:51.618780Z",
     "shell.execute_reply": "2025-02-24T14:10:51.617756Z"
    },
    "papermill": {
     "duration": 0.058063,
     "end_time": "2025-02-24T14:10:51.620183",
     "exception": false,
     "start_time": "2025-02-24T14:10:51.562120",
     "status": "completed"
    },
    "tags": []
   },
   "outputs": [
    {
     "name": "stdout",
     "output_type": "stream",
     "text": [
      "<class 'pandas.core.frame.DataFrame'>\n",
      "RangeIndex: 240 entries, 0 to 239\n",
      "Data columns (total 7 columns):\n",
      " #   Column                  Non-Null Count  Dtype  \n",
      "---  ------                  --------------  -----  \n",
      " 0   Temperature (K)         240 non-null    int64  \n",
      " 1   Luminosity(L/Lo)        240 non-null    float64\n",
      " 2   Radius(R/Ro)            240 non-null    float64\n",
      " 3   Absolute magnitude(Mv)  240 non-null    float64\n",
      " 4   Star type               240 non-null    int64  \n",
      " 5   Star color              240 non-null    object \n",
      " 6   Spectral Class          240 non-null    object \n",
      "dtypes: float64(3), int64(2), object(2)\n",
      "memory usage: 13.2+ KB\n"
     ]
    },
    {
     "data": {
      "text/html": [
       "<div>\n",
       "<style scoped>\n",
       "    .dataframe tbody tr th:only-of-type {\n",
       "        vertical-align: middle;\n",
       "    }\n",
       "\n",
       "    .dataframe tbody tr th {\n",
       "        vertical-align: top;\n",
       "    }\n",
       "\n",
       "    .dataframe thead th {\n",
       "        text-align: right;\n",
       "    }\n",
       "</style>\n",
       "<table border=\"1\" class=\"dataframe\">\n",
       "  <thead>\n",
       "    <tr style=\"text-align: right;\">\n",
       "      <th></th>\n",
       "      <th>Temperature (K)</th>\n",
       "      <th>Luminosity(L/Lo)</th>\n",
       "      <th>Radius(R/Ro)</th>\n",
       "      <th>Absolute magnitude(Mv)</th>\n",
       "      <th>Star type</th>\n",
       "      <th>Star color</th>\n",
       "      <th>Spectral Class</th>\n",
       "    </tr>\n",
       "  </thead>\n",
       "  <tbody>\n",
       "    <tr>\n",
       "      <th>0</th>\n",
       "      <td>3068</td>\n",
       "      <td>0.002400</td>\n",
       "      <td>0.1700</td>\n",
       "      <td>16.12</td>\n",
       "      <td>0</td>\n",
       "      <td>Red</td>\n",
       "      <td>M</td>\n",
       "    </tr>\n",
       "    <tr>\n",
       "      <th>1</th>\n",
       "      <td>3042</td>\n",
       "      <td>0.000500</td>\n",
       "      <td>0.1542</td>\n",
       "      <td>16.60</td>\n",
       "      <td>0</td>\n",
       "      <td>Red</td>\n",
       "      <td>M</td>\n",
       "    </tr>\n",
       "    <tr>\n",
       "      <th>2</th>\n",
       "      <td>2600</td>\n",
       "      <td>0.000300</td>\n",
       "      <td>0.1020</td>\n",
       "      <td>18.70</td>\n",
       "      <td>0</td>\n",
       "      <td>Red</td>\n",
       "      <td>M</td>\n",
       "    </tr>\n",
       "    <tr>\n",
       "      <th>3</th>\n",
       "      <td>2800</td>\n",
       "      <td>0.000200</td>\n",
       "      <td>0.1600</td>\n",
       "      <td>16.65</td>\n",
       "      <td>0</td>\n",
       "      <td>Red</td>\n",
       "      <td>M</td>\n",
       "    </tr>\n",
       "    <tr>\n",
       "      <th>4</th>\n",
       "      <td>1939</td>\n",
       "      <td>0.000138</td>\n",
       "      <td>0.1030</td>\n",
       "      <td>20.06</td>\n",
       "      <td>0</td>\n",
       "      <td>Red</td>\n",
       "      <td>M</td>\n",
       "    </tr>\n",
       "  </tbody>\n",
       "</table>\n",
       "</div>"
      ],
      "text/plain": [
       "   Temperature (K)  Luminosity(L/Lo)  Radius(R/Ro)  Absolute magnitude(Mv)  \\\n",
       "0             3068          0.002400        0.1700                   16.12   \n",
       "1             3042          0.000500        0.1542                   16.60   \n",
       "2             2600          0.000300        0.1020                   18.70   \n",
       "3             2800          0.000200        0.1600                   16.65   \n",
       "4             1939          0.000138        0.1030                   20.06   \n",
       "\n",
       "   Star type Star color Spectral Class  \n",
       "0          0        Red              M  \n",
       "1          0        Red              M  \n",
       "2          0        Red              M  \n",
       "3          0        Red              M  \n",
       "4          0        Red              M  "
      ]
     },
     "execution_count": 4,
     "metadata": {},
     "output_type": "execute_result"
    }
   ],
   "source": [
    "# Display basic information about the dataset\n",
    "df.info()\n",
    "df.head()"
   ]
  },
  {
   "cell_type": "markdown",
   "id": "a3f25281",
   "metadata": {
    "papermill": {
     "duration": 0.009188,
     "end_time": "2025-02-24T14:10:51.638957",
     "exception": false,
     "start_time": "2025-02-24T14:10:51.629769",
     "status": "completed"
    },
    "tags": []
   },
   "source": [
    "### Checking for Missing Values and duplicates\n",
    "Missing data can impact model performance. We check for missing values to determine if any preprocessing steps, such as imputation or removal, are needed."
   ]
  },
  {
   "cell_type": "code",
   "execution_count": 5,
   "id": "75562915",
   "metadata": {
    "execution": {
     "iopub.execute_input": "2025-02-24T14:10:51.658847Z",
     "iopub.status.busy": "2025-02-24T14:10:51.658478Z",
     "iopub.status.idle": "2025-02-24T14:10:51.665039Z",
     "shell.execute_reply": "2025-02-24T14:10:51.664206Z"
    },
    "papermill": {
     "duration": 0.018196,
     "end_time": "2025-02-24T14:10:51.666494",
     "exception": false,
     "start_time": "2025-02-24T14:10:51.648298",
     "status": "completed"
    },
    "tags": []
   },
   "outputs": [
    {
     "data": {
      "text/plain": [
       "Temperature (K)           0\n",
       "Luminosity(L/Lo)          0\n",
       "Radius(R/Ro)              0\n",
       "Absolute magnitude(Mv)    0\n",
       "Star type                 0\n",
       "Star color                0\n",
       "Spectral Class            0\n",
       "dtype: int64"
      ]
     },
     "execution_count": 5,
     "metadata": {},
     "output_type": "execute_result"
    }
   ],
   "source": [
    "# Check for missing values\n",
    "df.isnull().sum()\n"
   ]
  },
  {
   "cell_type": "markdown",
   "id": "0a0dce71",
   "metadata": {
    "papermill": {
     "duration": 0.009531,
     "end_time": "2025-02-24T14:10:51.685840",
     "exception": false,
     "start_time": "2025-02-24T14:10:51.676309",
     "status": "completed"
    },
    "tags": []
   },
   "source": [
    "We have no missing values :"
   ]
  },
  {
   "cell_type": "code",
   "execution_count": 6,
   "id": "19620954",
   "metadata": {
    "execution": {
     "iopub.execute_input": "2025-02-24T14:10:51.706180Z",
     "iopub.status.busy": "2025-02-24T14:10:51.705845Z",
     "iopub.status.idle": "2025-02-24T14:10:51.712439Z",
     "shell.execute_reply": "2025-02-24T14:10:51.711442Z"
    },
    "papermill": {
     "duration": 0.018356,
     "end_time": "2025-02-24T14:10:51.713750",
     "exception": false,
     "start_time": "2025-02-24T14:10:51.695394",
     "status": "completed"
    },
    "tags": []
   },
   "outputs": [
    {
     "data": {
      "text/plain": [
       "0"
      ]
     },
     "execution_count": 6,
     "metadata": {},
     "output_type": "execute_result"
    }
   ],
   "source": [
    "df.duplicated().sum()\n"
   ]
  },
  {
   "cell_type": "markdown",
   "id": "3c9393b9",
   "metadata": {
    "papermill": {
     "duration": 0.009512,
     "end_time": "2025-02-24T14:10:51.733046",
     "exception": false,
     "start_time": "2025-02-24T14:10:51.723534",
     "status": "completed"
    },
    "tags": []
   },
   "source": [
    "No duplicates"
   ]
  },
  {
   "cell_type": "markdown",
   "id": "16128dff",
   "metadata": {
    "papermill": {
     "duration": 0.00964,
     "end_time": "2025-02-24T14:10:51.752289",
     "exception": false,
     "start_time": "2025-02-24T14:10:51.742649",
     "status": "completed"
    },
    "tags": []
   },
   "source": [
    "### Statistical Summary"
   ]
  },
  {
   "cell_type": "markdown",
   "id": "d5a74f82",
   "metadata": {
    "papermill": {
     "duration": 0.009365,
     "end_time": "2025-02-24T14:10:51.771235",
     "exception": false,
     "start_time": "2025-02-24T14:10:51.761870",
     "status": "completed"
    },
    "tags": []
   },
   "source": [
    "Generating summary statistics provides insights into the range, mean, and distribution of numerical features."
   ]
  },
  {
   "cell_type": "code",
   "execution_count": 7,
   "id": "8101fed1",
   "metadata": {
    "execution": {
     "iopub.execute_input": "2025-02-24T14:10:51.791851Z",
     "iopub.status.busy": "2025-02-24T14:10:51.791484Z",
     "iopub.status.idle": "2025-02-24T14:10:51.814797Z",
     "shell.execute_reply": "2025-02-24T14:10:51.813783Z"
    },
    "papermill": {
     "duration": 0.035448,
     "end_time": "2025-02-24T14:10:51.816406",
     "exception": false,
     "start_time": "2025-02-24T14:10:51.780958",
     "status": "completed"
    },
    "tags": []
   },
   "outputs": [
    {
     "data": {
      "text/html": [
       "<div>\n",
       "<style scoped>\n",
       "    .dataframe tbody tr th:only-of-type {\n",
       "        vertical-align: middle;\n",
       "    }\n",
       "\n",
       "    .dataframe tbody tr th {\n",
       "        vertical-align: top;\n",
       "    }\n",
       "\n",
       "    .dataframe thead th {\n",
       "        text-align: right;\n",
       "    }\n",
       "</style>\n",
       "<table border=\"1\" class=\"dataframe\">\n",
       "  <thead>\n",
       "    <tr style=\"text-align: right;\">\n",
       "      <th></th>\n",
       "      <th>Temperature (K)</th>\n",
       "      <th>Luminosity(L/Lo)</th>\n",
       "      <th>Radius(R/Ro)</th>\n",
       "      <th>Absolute magnitude(Mv)</th>\n",
       "      <th>Star type</th>\n",
       "    </tr>\n",
       "  </thead>\n",
       "  <tbody>\n",
       "    <tr>\n",
       "      <th>count</th>\n",
       "      <td>240.000000</td>\n",
       "      <td>240.000000</td>\n",
       "      <td>240.000000</td>\n",
       "      <td>240.000000</td>\n",
       "      <td>240.000000</td>\n",
       "    </tr>\n",
       "    <tr>\n",
       "      <th>mean</th>\n",
       "      <td>10497.462500</td>\n",
       "      <td>107188.361635</td>\n",
       "      <td>237.157781</td>\n",
       "      <td>4.382396</td>\n",
       "      <td>2.500000</td>\n",
       "    </tr>\n",
       "    <tr>\n",
       "      <th>std</th>\n",
       "      <td>9552.425037</td>\n",
       "      <td>179432.244940</td>\n",
       "      <td>517.155763</td>\n",
       "      <td>10.532512</td>\n",
       "      <td>1.711394</td>\n",
       "    </tr>\n",
       "    <tr>\n",
       "      <th>min</th>\n",
       "      <td>1939.000000</td>\n",
       "      <td>0.000080</td>\n",
       "      <td>0.008400</td>\n",
       "      <td>-11.920000</td>\n",
       "      <td>0.000000</td>\n",
       "    </tr>\n",
       "    <tr>\n",
       "      <th>25%</th>\n",
       "      <td>3344.250000</td>\n",
       "      <td>0.000865</td>\n",
       "      <td>0.102750</td>\n",
       "      <td>-6.232500</td>\n",
       "      <td>1.000000</td>\n",
       "    </tr>\n",
       "    <tr>\n",
       "      <th>50%</th>\n",
       "      <td>5776.000000</td>\n",
       "      <td>0.070500</td>\n",
       "      <td>0.762500</td>\n",
       "      <td>8.313000</td>\n",
       "      <td>2.500000</td>\n",
       "    </tr>\n",
       "    <tr>\n",
       "      <th>75%</th>\n",
       "      <td>15055.500000</td>\n",
       "      <td>198050.000000</td>\n",
       "      <td>42.750000</td>\n",
       "      <td>13.697500</td>\n",
       "      <td>4.000000</td>\n",
       "    </tr>\n",
       "    <tr>\n",
       "      <th>max</th>\n",
       "      <td>40000.000000</td>\n",
       "      <td>849420.000000</td>\n",
       "      <td>1948.500000</td>\n",
       "      <td>20.060000</td>\n",
       "      <td>5.000000</td>\n",
       "    </tr>\n",
       "  </tbody>\n",
       "</table>\n",
       "</div>"
      ],
      "text/plain": [
       "       Temperature (K)  Luminosity(L/Lo)  Radius(R/Ro)  \\\n",
       "count       240.000000        240.000000    240.000000   \n",
       "mean      10497.462500     107188.361635    237.157781   \n",
       "std        9552.425037     179432.244940    517.155763   \n",
       "min        1939.000000          0.000080      0.008400   \n",
       "25%        3344.250000          0.000865      0.102750   \n",
       "50%        5776.000000          0.070500      0.762500   \n",
       "75%       15055.500000     198050.000000     42.750000   \n",
       "max       40000.000000     849420.000000   1948.500000   \n",
       "\n",
       "       Absolute magnitude(Mv)   Star type  \n",
       "count              240.000000  240.000000  \n",
       "mean                 4.382396    2.500000  \n",
       "std                 10.532512    1.711394  \n",
       "min                -11.920000    0.000000  \n",
       "25%                 -6.232500    1.000000  \n",
       "50%                  8.313000    2.500000  \n",
       "75%                 13.697500    4.000000  \n",
       "max                 20.060000    5.000000  "
      ]
     },
     "execution_count": 7,
     "metadata": {},
     "output_type": "execute_result"
    }
   ],
   "source": [
    "# Summary statistics of numerical features\n",
    "df.describe()\n"
   ]
  },
  {
   "cell_type": "markdown",
   "id": "7ceb8d11",
   "metadata": {
    "papermill": {
     "duration": 0.009782,
     "end_time": "2025-02-24T14:10:51.836642",
     "exception": false,
     "start_time": "2025-02-24T14:10:51.826860",
     "status": "completed"
    },
    "tags": []
   },
   "source": [
    "### Data distribution"
   ]
  },
  {
   "cell_type": "markdown",
   "id": "53b3fedb",
   "metadata": {
    "papermill": {
     "duration": 0.009786,
     "end_time": "2025-02-24T14:10:51.856465",
     "exception": false,
     "start_time": "2025-02-24T14:10:51.846679",
     "status": "completed"
    },
    "tags": []
   },
   "source": [
    "visualization : A bar plot can help visually assess whether the classes are balanced: "
   ]
  },
  {
   "cell_type": "code",
   "execution_count": 8,
   "id": "abccf84a",
   "metadata": {
    "execution": {
     "iopub.execute_input": "2025-02-24T14:10:51.877683Z",
     "iopub.status.busy": "2025-02-24T14:10:51.877356Z",
     "iopub.status.idle": "2025-02-24T14:10:52.156043Z",
     "shell.execute_reply": "2025-02-24T14:10:52.155012Z"
    },
    "papermill": {
     "duration": 0.291166,
     "end_time": "2025-02-24T14:10:52.157643",
     "exception": false,
     "start_time": "2025-02-24T14:10:51.866477",
     "status": "completed"
    },
    "tags": []
   },
   "outputs": [
    {
     "data": {
      "image/png": "[encoded data removed]",
      "text/plain": [
       "<Figure size 640x480 with 1 Axes>"
      ]
     },
     "metadata": {},
     "output_type": "display_data"
    }
   ],
   "source": [
    "import seaborn as sns\n",
    "import matplotlib.pyplot as plt\n",
    "\n",
    "# Count the occurrences of each star type{}\n",
    "sns.countplot(x=df['Star type'], palette='viridis')\n",
    "plt.xlabel(\"Star Type\")\n",
    "plt.ylabel(\"Count\")\n",
    "plt.title(\"Class Distribution of Star Types\")\n",
    "plt.show()\n"
   ]
  },
  {
   "cell_type": "markdown",
   "id": "73cf7697",
   "metadata": {
    "papermill": {
     "duration": 0.010611,
     "end_time": "2025-02-24T14:10:52.179418",
     "exception": false,
     "start_time": "2025-02-24T14:10:52.168807",
     "status": "completed"
    },
    "tags": []
   },
   "source": [
    "The dataset is well balanced between the different classes"
   ]
  },
  {
   "cell_type": "markdown",
   "id": "8e8c7fe1",
   "metadata": {
    "papermill": {
     "duration": 0.010288,
     "end_time": "2025-02-24T14:10:52.200504",
     "exception": false,
     "start_time": "2025-02-24T14:10:52.190216",
     "status": "completed"
    },
    "tags": []
   },
   "source": [
    "### Feature Correlation Analysis"
   ]
  },
  {
   "cell_type": "markdown",
   "id": "81889375",
   "metadata": {
    "papermill": {
     "duration": 0.010254,
     "end_time": "2025-02-24T14:10:52.221377",
     "exception": false,
     "start_time": "2025-02-24T14:10:52.211123",
     "status": "completed"
    },
    "tags": []
   },
   "source": [
    "Encoding categorical variables as numerical to plot the correlation matrix"
   ]
  },
  {
   "cell_type": "code",
   "execution_count": 9,
   "id": "b120398c",
   "metadata": {
    "execution": {
     "iopub.execute_input": "2025-02-24T14:10:52.243532Z",
     "iopub.status.busy": "2025-02-24T14:10:52.243181Z",
     "iopub.status.idle": "2025-02-24T14:10:52.249020Z",
     "shell.execute_reply": "2025-02-24T14:10:52.248035Z"
    },
    "papermill": {
     "duration": 0.018732,
     "end_time": "2025-02-24T14:10:52.250479",
     "exception": false,
     "start_time": "2025-02-24T14:10:52.231747",
     "status": "completed"
    },
    "tags": []
   },
   "outputs": [],
   "source": [
    "le_color = LabelEncoder()\n",
    "df['Star color'] = le_color.fit_transform(df['Star color'])\n",
    "\n",
    "le_spectral = LabelEncoder()\n",
    "df['Spectral Class'] = le_spectral.fit_transform(df['Spectral Class'])"
   ]
  },
  {
   "cell_type": "code",
   "execution_count": 10,
   "id": "f4b7ca42",
   "metadata": {
    "execution": {
     "iopub.execute_input": "2025-02-24T14:10:52.272875Z",
     "iopub.status.busy": "2025-02-24T14:10:52.272500Z",
     "iopub.status.idle": "2025-02-24T14:10:52.774772Z",
     "shell.execute_reply": "2025-02-24T14:10:52.773640Z"
    },
    "papermill": {
     "duration": 0.515218,
     "end_time": "2025-02-24T14:10:52.776436",
     "exception": false,
     "start_time": "2025-02-24T14:10:52.261218",
     "status": "completed"
    },
    "tags": []
   },
   "outputs": [
    {
     "data": {
      "image/png": "[encoded data removed]",
      "text/plain": [
       "<Figure size 1000x600 with 2 Axes>"
      ]
     },
     "metadata": {},
     "output_type": "display_data"
    }
   ],
   "source": [
    "plt.figure(figsize=(10,6))\n",
    "sns.heatmap(df.corr(), annot=True, cmap='coolwarm')\n",
    "plt.title('Feature Correlation Matrix')\n",
    "plt.show()"
   ]
  },
  {
   "cell_type": "markdown",
   "id": "51d61c4d",
   "metadata": {
    "papermill": {
     "duration": 0.012265,
     "end_time": "2025-02-24T14:10:52.802316",
     "exception": false,
     "start_time": "2025-02-24T14:10:52.790051",
     "status": "completed"
    },
    "tags": []
   },
   "source": [
    "### Visualizing Feature Distributions\n",
    "\n",
    "To understand how features vary across different star types, we use histograms and boxplots.\n",
    "\n",
    "Temperature Distribution :\n"
   ]
  },
  {
   "cell_type": "code",
   "execution_count": 11,
   "id": "b2bb9f7e",
   "metadata": {
    "execution": {
     "iopub.execute_input": "2025-02-24T14:10:52.828596Z",
     "iopub.status.busy": "2025-02-24T14:10:52.828239Z",
     "iopub.status.idle": "2025-02-24T14:10:53.104480Z",
     "shell.execute_reply": "2025-02-24T14:10:53.103517Z"
    },
    "papermill": {
     "duration": 0.29149,
     "end_time": "2025-02-24T14:10:53.106163",
     "exception": false,
     "start_time": "2025-02-24T14:10:52.814673",
     "status": "completed"
    },
    "tags": []
   },
   "outputs": [
    {
     "name": "stderr",
     "output_type": "stream",
     "text": [
      "/usr/local/lib/python3.10/dist-packages/seaborn/_oldcore.py:1119: FutureWarning: use_inf_as_na option is deprecated and will be removed in a future version. Convert inf values to NaN before operating instead.\n",
      "  with pd.option_context('mode.use_inf_as_na', True):\n"
     ]
    },
    {
     "data": {
      "image/png": "[encoded data removed]",
      "text/plain": [
       "<Figure size 640x480 with 1 Axes>"
      ]
     },
     "metadata": {},
     "output_type": "display_data"
    }
   ],
   "source": [
    "sns.histplot(df['Temperature (K)'], bins=30, kde=True, color='blue')\n",
    "plt.title(\"Temperature Distribution of Stars\")\n",
    "plt.xlabel(\"Temperature (K)\")\n",
    "plt.ylabel(\"Frequency\")\n",
    "plt.show()\n"
   ]
  },
  {
   "cell_type": "markdown",
   "id": "d7666e0a",
   "metadata": {
    "papermill": {
     "duration": 0.012744,
     "end_time": "2025-02-24T14:10:53.132539",
     "exception": false,
     "start_time": "2025-02-24T14:10:53.119795",
     "status": "completed"
    },
    "tags": []
   },
   "source": [
    "Luminosity vs. Star Type"
   ]
  },
  {
   "cell_type": "code",
   "execution_count": 12,
   "id": "f360bbb4",
   "metadata": {
    "execution": {
     "iopub.execute_input": "2025-02-24T14:10:53.160811Z",
     "iopub.status.busy": "2025-02-24T14:10:53.160443Z",
     "iopub.status.idle": "2025-02-24T14:10:53.357537Z",
     "shell.execute_reply": "2025-02-24T14:10:53.356547Z"
    },
    "papermill": {
     "duration": 0.212798,
     "end_time": "2025-02-24T14:10:53.359202",
     "exception": false,
     "start_time": "2025-02-24T14:10:53.146404",
     "status": "completed"
    },
    "tags": []
   },
   "outputs": [
    {
     "data": {
      "image/png": "[encoded data removed]",
      "text/plain": [
       "<Figure size 640x480 with 1 Axes>"
      ]
     },
     "metadata": {},
     "output_type": "display_data"
    }
   ],
   "source": [
    "sns.boxplot(x=df['Star type'], y=df['Luminosity(L/Lo)'], palette='coolwarm')\n",
    "plt.title(\"Luminosity by Star Type\")\n",
    "plt.xlabel(\"Star Type\")\n",
    "plt.ylabel(\"Luminosity (L/Lo)\")\n",
    "plt.show()\n"
   ]
  },
  {
   "cell_type": "markdown",
   "id": "de427624",
   "metadata": {
    "papermill": {
     "duration": 0.013769,
     "end_time": "2025-02-24T14:10:53.386851",
     "exception": false,
     "start_time": "2025-02-24T14:10:53.373082",
     "status": "completed"
    },
    "tags": []
   },
   "source": [
    "## Data cleaning"
   ]
  },
  {
   "cell_type": "markdown",
   "id": "327b46cb",
   "metadata": {
    "papermill": {
     "duration": 0.013321,
     "end_time": "2025-02-24T14:10:53.413907",
     "exception": false,
     "start_time": "2025-02-24T14:10:53.400586",
     "status": "completed"
    },
    "tags": []
   },
   "source": [
    "* Replace spaces with underscores\n",
    "This ensures consistency and prevents issues when referencing columns in code.\n",
    "* Rename specific columns\n",
    "We remove the parentheses to make column names cleaner and easier to work with."
   ]
  },
  {
   "cell_type": "code",
   "execution_count": 13,
   "id": "3778f8e4",
   "metadata": {
    "execution": {
     "iopub.execute_input": "2025-02-24T14:10:53.442174Z",
     "iopub.status.busy": "2025-02-24T14:10:53.441819Z",
     "iopub.status.idle": "2025-02-24T14:10:53.448243Z",
     "shell.execute_reply": "2025-02-24T14:10:53.447148Z"
    },
    "papermill": {
     "duration": 0.022267,
     "end_time": "2025-02-24T14:10:53.449764",
     "exception": false,
     "start_time": "2025-02-24T14:10:53.427497",
     "status": "completed"
    },
    "tags": []
   },
   "outputs": [
    {
     "name": "stdout",
     "output_type": "stream",
     "text": [
      "Index(['Temperature', 'Luminosity', 'Radius', 'Absolute_magnitude',\n",
      "       'Star_type', 'Star_color', 'Spectral_Class'],\n",
      "      dtype='object')\n"
     ]
    }
   ],
   "source": [
    "# Replace spaces with underscores\n",
    "df.columns = df.columns.str.replace(\" \", \"_\")\n",
    "\n",
    "# Rename specific columns by removing parentheses\n",
    "df.rename(columns={\n",
    "    \"Temperature_(K)\": \"Temperature\",\n",
    "    \"Luminosity(L/Lo)\": \"Luminosity\",\n",
    "    \"Radius(R/Ro)\": \"Radius\",\n",
    "    \"Absolute_magnitude(Mv)\": \"Absolute_magnitude\"\n",
    "}, inplace=True)\n",
    "\n",
    "# Display the updated column names\n",
    "print(df.columns)\n"
   ]
  },
  {
   "cell_type": "markdown",
   "id": "1ded78df",
   "metadata": {
    "papermill": {
     "duration": 0.013554,
     "end_time": "2025-02-24T14:10:53.477440",
     "exception": false,
     "start_time": "2025-02-24T14:10:53.463886",
     "status": "completed"
    },
    "tags": []
   },
   "source": [
    "## Outliers analysis"
   ]
  },
  {
   "cell_type": "code",
   "execution_count": 14,
   "id": "ae2d43ef",
   "metadata": {
    "execution": {
     "iopub.execute_input": "2025-02-24T14:10:53.506095Z",
     "iopub.status.busy": "2025-02-24T14:10:53.505763Z",
     "iopub.status.idle": "2025-02-24T14:10:53.661960Z",
     "shell.execute_reply": "2025-02-24T14:10:53.661036Z"
    },
    "papermill": {
     "duration": 0.172203,
     "end_time": "2025-02-24T14:10:53.663405",
     "exception": false,
     "start_time": "2025-02-24T14:10:53.491202",
     "status": "completed"
    },
    "tags": []
   },
   "outputs": [
    {
     "data": {
      "image/png": "[encoded data removed]",
      "text/plain": [
       "<Figure size 1000x600 with 1 Axes>"
      ]
     },
     "metadata": {},
     "output_type": "display_data"
    }
   ],
   "source": [
    "import seaborn as sns\n",
    "import matplotlib.pyplot as plt\n",
    "\n",
    "plt.figure(figsize=(10,6))\n",
    "sns.boxplot(data=df[['Temperature', 'Luminosity', 'Radius', 'Absolute_magnitude']])\n",
    "plt.show()\n"
   ]
  },
  {
   "cell_type": "markdown",
   "id": "dcd7688d",
   "metadata": {
    "papermill": {
     "duration": 0.014005,
     "end_time": "2025-02-24T14:10:53.741823",
     "exception": false,
     "start_time": "2025-02-24T14:10:53.727818",
     "status": "completed"
    },
    "tags": []
   },
   "source": [
    "How to Handle Outliers:\n",
    "Remove extreme outliers using the IQR method.\n",
    "\n",
    "Since the boxplot shows that Luminosity has extreme outliers, we will remove them, but instead of blindly removing outliers, we can take alternative approaches to compare model performance with and without outliers to determine their impact on classification."
   ]
  },
  {
   "cell_type": "markdown",
   "id": "9da05d04",
   "metadata": {
    "papermill": {
     "duration": 0.013867,
     "end_time": "2025-02-24T14:10:53.769817",
     "exception": false,
     "start_time": "2025-02-24T14:10:53.755950",
     "status": "completed"
    },
    "tags": []
   },
   "source": [
    "### Outlier Removal Function\n",
    "Using the Interquartile Range (IQR) method to filter extreme outliers."
   ]
  },
  {
   "cell_type": "code",
   "execution_count": 15,
   "id": "f6ca9ab6",
   "metadata": {
    "execution": {
     "iopub.execute_input": "2025-02-24T14:10:53.799328Z",
     "iopub.status.busy": "2025-02-24T14:10:53.798978Z",
     "iopub.status.idle": "2025-02-24T14:10:53.806990Z",
     "shell.execute_reply": "2025-02-24T14:10:53.806165Z"
    },
    "papermill": {
     "duration": 0.024377,
     "end_time": "2025-02-24T14:10:53.808376",
     "exception": false,
     "start_time": "2025-02-24T14:10:53.783999",
     "status": "completed"
    },
    "tags": []
   },
   "outputs": [],
   "source": [
    "def remove_outliers(df, column):\n",
    "    Q1 = df[column].quantile(0.25)\n",
    "    Q3 = df[column].quantile(0.75)\n",
    "    IQR = Q3 - Q1\n",
    "    lower_bound = Q1 - 1.5 * IQR\n",
    "    upper_bound = Q3 + 1.5 * IQR\n",
    "    return df[(df[column] >= lower_bound) & (df[column] <= upper_bound)]\n",
    "\n",
    "# Apply outlier removal on Luminosity (or any other feature if needed)\n",
    "df_no_outliers = df.copy()\n",
    "\n",
    "df_no_outliers = remove_outliers(df_no_outliers, \"Luminosity\")\n"
   ]
  },
  {
   "cell_type": "markdown",
   "id": "f8164879",
   "metadata": {
    "papermill": {
     "duration": 0.013776,
     "end_time": "2025-02-24T14:10:53.836602",
     "exception": false,
     "start_time": "2025-02-24T14:10:53.822826",
     "status": "completed"
    },
    "tags": []
   },
   "source": [
    "### Apply Log Transformation & Scaling\n",
    "We log-transform Luminosity to reduce skewness and scale all features using RobustScaler (resistant to outliers)."
   ]
  },
  {
   "cell_type": "code",
   "execution_count": 16,
   "id": "0dd8ffdd",
   "metadata": {
    "execution": {
     "iopub.execute_input": "2025-02-24T14:10:53.866040Z",
     "iopub.status.busy": "2025-02-24T14:10:53.865722Z",
     "iopub.status.idle": "2025-02-24T14:10:53.884876Z",
     "shell.execute_reply": "2025-02-24T14:10:53.884094Z"
    },
    "papermill": {
     "duration": 0.035715,
     "end_time": "2025-02-24T14:10:53.886517",
     "exception": false,
     "start_time": "2025-02-24T14:10:53.850802",
     "status": "completed"
    },
    "tags": []
   },
   "outputs": [],
   "source": [
    "# Log transform Luminosity\n",
    "df['Luminosity_log'] = np.log1p(df['Luminosity'])\n",
    "df_no_outliers['Luminosity_log'] = np.log1p(df_no_outliers['Luminosity'])\n",
    "\n",
    "# Select numerical features for scaling\n",
    "features = [\"Temperature\", \"Luminosity_log\", \"Radius\", \"Absolute_magnitude\", \"Star_color\", \"Spectral_Class\"]\n",
    "scaler = RobustScaler()\n",
    "\n",
    "df[features] = scaler.fit_transform(df[features])\n",
    "df_no_outliers[features] = scaler.fit_transform(df_no_outliers[features])\n"
   ]
  },
  {
   "cell_type": "code",
   "execution_count": 17,
   "id": "70a05d92",
   "metadata": {
    "execution": {
     "iopub.execute_input": "2025-02-24T14:10:53.916482Z",
     "iopub.status.busy": "2025-02-24T14:10:53.916048Z",
     "iopub.status.idle": "2025-02-24T14:10:53.935312Z",
     "shell.execute_reply": "2025-02-24T14:10:53.934345Z"
    },
    "papermill": {
     "duration": 0.036535,
     "end_time": "2025-02-24T14:10:53.937275",
     "exception": false,
     "start_time": "2025-02-24T14:10:53.900740",
     "status": "completed"
    },
    "tags": []
   },
   "outputs": [
    {
     "data": {
      "text/html": [
       "<div>\n",
       "<style scoped>\n",
       "    .dataframe tbody tr th:only-of-type {\n",
       "        vertical-align: middle;\n",
       "    }\n",
       "\n",
       "    .dataframe tbody tr th {\n",
       "        vertical-align: top;\n",
       "    }\n",
       "\n",
       "    .dataframe thead th {\n",
       "        text-align: right;\n",
       "    }\n",
       "</style>\n",
       "<table border=\"1\" class=\"dataframe\">\n",
       "  <thead>\n",
       "    <tr style=\"text-align: right;\">\n",
       "      <th></th>\n",
       "      <th>Temperature</th>\n",
       "      <th>Luminosity</th>\n",
       "      <th>Radius</th>\n",
       "      <th>Absolute_magnitude</th>\n",
       "      <th>Star_type</th>\n",
       "      <th>Star_color</th>\n",
       "      <th>Spectral_Class</th>\n",
       "      <th>Luminosity_log</th>\n",
       "    </tr>\n",
       "  </thead>\n",
       "  <tbody>\n",
       "    <tr>\n",
       "      <th>0</th>\n",
       "      <td>-0.183144</td>\n",
       "      <td>0.002400</td>\n",
       "      <td>-0.010626</td>\n",
       "      <td>0.274490</td>\n",
       "      <td>0</td>\n",
       "      <td>0.000</td>\n",
       "      <td>0.00</td>\n",
       "      <td>-0.000668</td>\n",
       "    </tr>\n",
       "    <tr>\n",
       "      <th>1</th>\n",
       "      <td>-0.185551</td>\n",
       "      <td>0.000500</td>\n",
       "      <td>-0.011133</td>\n",
       "      <td>0.298511</td>\n",
       "      <td>0</td>\n",
       "      <td>0.000</td>\n",
       "      <td>0.00</td>\n",
       "      <td>-0.000825</td>\n",
       "    </tr>\n",
       "    <tr>\n",
       "      <th>2</th>\n",
       "      <td>-0.226476</td>\n",
       "      <td>0.000300</td>\n",
       "      <td>-0.012808</td>\n",
       "      <td>0.403603</td>\n",
       "      <td>0</td>\n",
       "      <td>0.000</td>\n",
       "      <td>0.00</td>\n",
       "      <td>-0.000842</td>\n",
       "    </tr>\n",
       "    <tr>\n",
       "      <th>3</th>\n",
       "      <td>-0.207958</td>\n",
       "      <td>0.000200</td>\n",
       "      <td>-0.010947</td>\n",
       "      <td>0.301013</td>\n",
       "      <td>0</td>\n",
       "      <td>0.000</td>\n",
       "      <td>0.00</td>\n",
       "      <td>-0.000850</td>\n",
       "    </tr>\n",
       "    <tr>\n",
       "      <th>4</th>\n",
       "      <td>-0.287679</td>\n",
       "      <td>0.000138</td>\n",
       "      <td>-0.012776</td>\n",
       "      <td>0.471663</td>\n",
       "      <td>0</td>\n",
       "      <td>0.000</td>\n",
       "      <td>0.00</td>\n",
       "      <td>-0.000855</td>\n",
       "    </tr>\n",
       "    <tr>\n",
       "      <th>...</th>\n",
       "      <td>...</td>\n",
       "      <td>...</td>\n",
       "      <td>...</td>\n",
       "      <td>...</td>\n",
       "      <td>...</td>\n",
       "      <td>...</td>\n",
       "      <td>...</td>\n",
       "      <td>...</td>\n",
       "    </tr>\n",
       "    <tr>\n",
       "      <th>230</th>\n",
       "      <td>1.768385</td>\n",
       "      <td>382993.000000</td>\n",
       "      <td>47.943123</td>\n",
       "      <td>-0.974603</td>\n",
       "      <td>5</td>\n",
       "      <td>-0.500</td>\n",
       "      <td>-1.00</td>\n",
       "      <td>1.066154</td>\n",
       "    </tr>\n",
       "    <tr>\n",
       "      <th>231</th>\n",
       "      <td>3.072892</td>\n",
       "      <td>272830.000000</td>\n",
       "      <td>43.513156</td>\n",
       "      <td>-0.997122</td>\n",
       "      <td>5</td>\n",
       "      <td>-1.250</td>\n",
       "      <td>0.25</td>\n",
       "      <td>1.038004</td>\n",
       "    </tr>\n",
       "    <tr>\n",
       "      <th>235</th>\n",
       "      <td>3.138261</td>\n",
       "      <td>374830.000000</td>\n",
       "      <td>43.513156</td>\n",
       "      <td>-1.029151</td>\n",
       "      <td>5</td>\n",
       "      <td>-1.250</td>\n",
       "      <td>0.25</td>\n",
       "      <td>1.064366</td>\n",
       "    </tr>\n",
       "    <tr>\n",
       "      <th>238</th>\n",
       "      <td>0.387861</td>\n",
       "      <td>404940.000000</td>\n",
       "      <td>35.680461</td>\n",
       "      <td>-1.094207</td>\n",
       "      <td>5</td>\n",
       "      <td>0.125</td>\n",
       "      <td>-1.25</td>\n",
       "      <td>1.070779</td>\n",
       "    </tr>\n",
       "    <tr>\n",
       "      <th>239</th>\n",
       "      <td>3.040300</td>\n",
       "      <td>294903.000000</td>\n",
       "      <td>57.220372</td>\n",
       "      <td>-0.922557</td>\n",
       "      <td>5</td>\n",
       "      <td>-1.250</td>\n",
       "      <td>0.25</td>\n",
       "      <td>1.044461</td>\n",
       "    </tr>\n",
       "  </tbody>\n",
       "</table>\n",
       "<p>228 rows × 8 columns</p>\n",
       "</div>"
      ],
      "text/plain": [
       "     Temperature     Luminosity     Radius  Absolute_magnitude  Star_type  \\\n",
       "0      -0.183144       0.002400  -0.010626            0.274490          0   \n",
       "1      -0.185551       0.000500  -0.011133            0.298511          0   \n",
       "2      -0.226476       0.000300  -0.012808            0.403603          0   \n",
       "3      -0.207958       0.000200  -0.010947            0.301013          0   \n",
       "4      -0.287679       0.000138  -0.012776            0.471663          0   \n",
       "..           ...            ...        ...                 ...        ...   \n",
       "230     1.768385  382993.000000  47.943123           -0.974603          5   \n",
       "231     3.072892  272830.000000  43.513156           -0.997122          5   \n",
       "235     3.138261  374830.000000  43.513156           -1.029151          5   \n",
       "238     0.387861  404940.000000  35.680461           -1.094207          5   \n",
       "239     3.040300  294903.000000  57.220372           -0.922557          5   \n",
       "\n",
       "     Star_color  Spectral_Class  Luminosity_log  \n",
       "0         0.000            0.00       -0.000668  \n",
       "1         0.000            0.00       -0.000825  \n",
       "2         0.000            0.00       -0.000842  \n",
       "3         0.000            0.00       -0.000850  \n",
       "4         0.000            0.00       -0.000855  \n",
       "..          ...             ...             ...  \n",
       "230      -0.500           -1.00        1.066154  \n",
       "231      -1.250            0.25        1.038004  \n",
       "235      -1.250            0.25        1.064366  \n",
       "238       0.125           -1.25        1.070779  \n",
       "239      -1.250            0.25        1.044461  \n",
       "\n",
       "[228 rows x 8 columns]"
      ]
     },
     "execution_count": 17,
     "metadata": {},
     "output_type": "execute_result"
    }
   ],
   "source": [
    "df_no_outliers"
   ]
  },
  {
   "cell_type": "markdown",
   "id": "a2e786ed",
   "metadata": {
    "papermill": {
     "duration": 0.016091,
     "end_time": "2025-02-24T14:10:53.971338",
     "exception": false,
     "start_time": "2025-02-24T14:10:53.955247",
     "status": "completed"
    },
    "tags": []
   },
   "source": [
    "## Train Models With/Without Outliers and Compare Performance\n",
    "\n",
    "* If the model with outliers performs better, we keep them.\n",
    "* If the model without outliers improves classification, we remove them.\n"
   ]
  },
  {
   "cell_type": "markdown",
   "id": "f594faba",
   "metadata": {
    "papermill": {
     "duration": 0.014295,
     "end_time": "2025-02-24T14:10:54.001430",
     "exception": false,
     "start_time": "2025-02-24T14:10:53.987135",
     "status": "completed"
    },
    "tags": []
   },
   "source": [
    "### Random Forest"
   ]
  },
  {
   "cell_type": "code",
   "execution_count": 18,
   "id": "4521794d",
   "metadata": {
    "execution": {
     "iopub.execute_input": "2025-02-24T14:10:54.036383Z",
     "iopub.status.busy": "2025-02-24T14:10:54.035890Z",
     "iopub.status.idle": "2025-02-24T14:10:54.395404Z",
     "shell.execute_reply": "2025-02-24T14:10:54.394113Z"
    },
    "papermill": {
     "duration": 0.380958,
     "end_time": "2025-02-24T14:10:54.397072",
     "exception": false,
     "start_time": "2025-02-24T14:10:54.016114",
     "status": "completed"
    },
    "tags": []
   },
   "outputs": [
    {
     "name": "stdout",
     "output_type": "stream",
     "text": [
      "Model with Outliers:\n",
      "              precision    recall  f1-score   support\n",
      "\n",
      "           0       1.00      1.00      1.00         8\n",
      "           1       1.00      1.00      1.00         8\n",
      "           2       1.00      1.00      1.00         8\n",
      "           3       1.00      1.00      1.00         8\n",
      "           4       1.00      1.00      1.00         8\n",
      "           5       1.00      1.00      1.00         8\n",
      "\n",
      "    accuracy                           1.00        48\n",
      "   macro avg       1.00      1.00      1.00        48\n",
      "weighted avg       1.00      1.00      1.00        48\n",
      "\n",
      "\n",
      "Model without Outliers:\n",
      "              precision    recall  f1-score   support\n",
      "\n",
      "           0       1.00      1.00      1.00         8\n",
      "           1       1.00      1.00      1.00         8\n",
      "           2       1.00      1.00      1.00         8\n",
      "           3       1.00      1.00      1.00         8\n",
      "           4       1.00      1.00      1.00         7\n",
      "           5       1.00      1.00      1.00         7\n",
      "\n",
      "    accuracy                           1.00        46\n",
      "   macro avg       1.00      1.00      1.00        46\n",
      "weighted avg       1.00      1.00      1.00        46\n",
      "\n"
     ]
    }
   ],
   "source": [
    "# Define target variable & features\n",
    "X = df[features]\n",
    "y = df[\"Star_type\"]\n",
    "\n",
    "X_no_outliers = df_no_outliers[features]\n",
    "y_no_outliers = df_no_outliers[\"Star_type\"]\n",
    "\n",
    "# Split datasets\n",
    "X_train, X_test, y_train, y_test = train_test_split(X, y, test_size=0.2, random_state=42, stratify=y)\n",
    "X_train_no, X_test_no, y_train_no, y_test_no = train_test_split(X_no_outliers, y_no_outliers, test_size=0.2, random_state=42, stratify=y_no_outliers)\n",
    "\n",
    "# Train Random Forest Model\n",
    "model = RandomForestClassifier(random_state=42)\n",
    "model_no_outliers = RandomForestClassifier(random_state=42)\n",
    "\n",
    "model.fit(X_train, y_train)\n",
    "model_no_outliers.fit(X_train_no, y_train_no)\n",
    "\n",
    "# Predictions\n",
    "y_pred = model.predict(X_test)\n",
    "y_pred_no_outliers = model_no_outliers.predict(X_test_no)\n",
    "\n",
    "# Evaluate Performance\n",
    "print(\"Model with Outliers:\")\n",
    "print(classification_report(y_test, y_pred))\n",
    "\n",
    "print(\"\\nModel without Outliers:\")\n",
    "print(classification_report(y_test_no, y_pred_no_outliers))\n"
   ]
  },
  {
   "cell_type": "markdown",
   "id": "2f3359e7",
   "metadata": {
    "papermill": {
     "duration": 0.014347,
     "end_time": "2025-02-24T14:10:54.426087",
     "exception": false,
     "start_time": "2025-02-24T14:10:54.411740",
     "status": "completed"
    },
    "tags": []
   },
   "source": [
    "**Results** : It seems that there is no difference between the 2 datasests (with and without outliers) so we can keep the outliers."
   ]
  },
  {
   "cell_type": "markdown",
   "id": "ee348e3b",
   "metadata": {
    "papermill": {
     "duration": 0.014125,
     "end_time": "2025-02-24T14:10:54.454689",
     "exception": false,
     "start_time": "2025-02-24T14:10:54.440564",
     "status": "completed"
    },
    "tags": []
   },
   "source": [
    "Interpretation of Results :\n",
    "\n",
    "The models (both with and without outliers) are achieving a perfect accuracy of 1.00 across all metrics—precision, recall, and F1-score.\n",
    "\n",
    "What This Means:\n",
    "\n",
    "* Perfect Classification 🚀\n",
    "\n",
    "The model is classifying all samples correctly. This suggests the data is well-separated, making classification straightforward.\n",
    "\n",
    "* Outliers Have Minimal Impact\n",
    "\n",
    "The results are almost identical between models with and without outliers.\n",
    "The support (number of instances per class) is slightly different, but the performance is still perfect. This suggests that the outliers were not negatively impacting the model's performance.\n",
    "\n",
    "* Possible Overfitting? 🤔\n",
    "\n",
    "A 100% accuracy could indicate the dataset is too easy to classify or the model has memorized the training data rather than generalizing well."
   ]
  },
  {
   "cell_type": "markdown",
   "id": "8134d06d",
   "metadata": {
    "papermill": {
     "duration": 0.014425,
     "end_time": "2025-02-24T14:10:54.483893",
     "exception": false,
     "start_time": "2025-02-24T14:10:54.469468",
     "status": "completed"
    },
    "tags": []
   },
   "source": [
    "### Logistic Regression"
   ]
  },
  {
   "cell_type": "code",
   "execution_count": 19,
   "id": "d2fa3ae1",
   "metadata": {
    "execution": {
     "iopub.execute_input": "2025-02-24T14:10:54.514449Z",
     "iopub.status.busy": "2025-02-24T14:10:54.514105Z",
     "iopub.status.idle": "2025-02-24T14:10:54.586263Z",
     "shell.execute_reply": "2025-02-24T14:10:54.585160Z"
    },
    "papermill": {
     "duration": 0.089273,
     "end_time": "2025-02-24T14:10:54.587826",
     "exception": false,
     "start_time": "2025-02-24T14:10:54.498553",
     "status": "completed"
    },
    "tags": []
   },
   "outputs": [
    {
     "name": "stdout",
     "output_type": "stream",
     "text": [
      "Model with Outliers:\n",
      "Accuracy: 0.8958333333333334\n",
      "              precision    recall  f1-score   support\n",
      "\n",
      "           0       0.80      1.00      0.89         8\n",
      "           1       0.86      0.75      0.80         8\n",
      "           2       1.00      1.00      1.00         8\n",
      "           3       0.86      0.75      0.80         8\n",
      "           4       0.88      0.88      0.88         8\n",
      "           5       1.00      1.00      1.00         8\n",
      "\n",
      "    accuracy                           0.90        48\n",
      "   macro avg       0.90      0.90      0.89        48\n",
      "weighted avg       0.90      0.90      0.89        48\n",
      "\n",
      "\n",
      "Model without Outliers:\n",
      "Accuracy: 0.9347826086956522\n",
      "              precision    recall  f1-score   support\n",
      "\n",
      "           0       0.89      1.00      0.94         8\n",
      "           1       0.88      0.88      0.88         8\n",
      "           2       1.00      1.00      1.00         8\n",
      "           3       0.88      0.88      0.88         8\n",
      "           4       1.00      0.86      0.92         7\n",
      "           5       1.00      1.00      1.00         7\n",
      "\n",
      "    accuracy                           0.93        46\n",
      "   macro avg       0.94      0.93      0.94        46\n",
      "weighted avg       0.94      0.93      0.93        46\n",
      "\n"
     ]
    }
   ],
   "source": [
    "from sklearn.model_selection import train_test_split\n",
    "from sklearn.preprocessing import StandardScaler\n",
    "from sklearn.linear_model import LogisticRegression\n",
    "from sklearn.metrics import classification_report, accuracy_score\n",
    "\n",
    "# Define target variable & features\n",
    "X = df[features]\n",
    "y = df[\"Star_type\"]\n",
    "\n",
    "X_no_outliers = df_no_outliers[features]\n",
    "y_no_outliers = df_no_outliers[\"Star_type\"]\n",
    "\n",
    "# Split datasets\n",
    "X_train, X_test, y_train, y_test = train_test_split(X, y, test_size=0.2, random_state=42, stratify=y)\n",
    "X_train_no, X_test_no, y_train_no, y_test_no = train_test_split(X_no_outliers, y_no_outliers, test_size=0.2, random_state=42, stratify=y_no_outliers)\n",
    "\n",
    "# Train Random Forest Model\n",
    "model_log = LogisticRegression(max_iter=1000, multi_class=\"multinomial\", solver=\"lbfgs\")\n",
    "model_no_outliers_log = LogisticRegression(max_iter=1000, multi_class=\"multinomial\", solver=\"lbfgs\")\n",
    "\n",
    "model_log.fit(X_train, y_train)\n",
    "model_no_outliers_log.fit(X_train_no, y_train_no)\n",
    "\n",
    "# Predictions\n",
    "y_pred = model_log.predict(X_test)\n",
    "y_pred_no_outliers = model_no_outliers_log.predict(X_test_no)\n",
    "\n",
    "# Evaluate Performance\n",
    "print(\"Model with Outliers:\")\n",
    "print(\"Accuracy:\", accuracy_score(y_test, y_pred))\n",
    "\n",
    "print(classification_report(y_test, y_pred))\n",
    "\n",
    "print(\"\\nModel without Outliers:\")\n",
    "print(\"Accuracy:\", accuracy_score(y_test_no, y_pred_no_outliers))\n",
    "\n",
    "print(classification_report(y_test_no, y_pred_no_outliers))\n"
   ]
  },
  {
   "cell_type": "markdown",
   "id": "2949a648",
   "metadata": {
    "papermill": {
     "duration": 0.015491,
     "end_time": "2025-02-24T14:10:54.618388",
     "exception": false,
     "start_time": "2025-02-24T14:10:54.602897",
     "status": "completed"
    },
    "tags": []
   },
   "source": [
    "Without outliers, we get better results"
   ]
  },
  {
   "cell_type": "markdown",
   "id": "3522459a",
   "metadata": {
    "papermill": {
     "duration": 0.014511,
     "end_time": "2025-02-24T14:10:54.647685",
     "exception": false,
     "start_time": "2025-02-24T14:10:54.633174",
     "status": "completed"
    },
    "tags": []
   },
   "source": [
    "# Binary classification: Selecting two classes\n"
   ]
  },
  {
   "cell_type": "code",
   "execution_count": 20,
   "id": "60d3b52b",
   "metadata": {
    "execution": {
     "iopub.execute_input": "2025-02-24T14:10:54.678351Z",
     "iopub.status.busy": "2025-02-24T14:10:54.678003Z",
     "iopub.status.idle": "2025-02-24T14:10:54.685433Z",
     "shell.execute_reply": "2025-02-24T14:10:54.684577Z"
    },
    "papermill": {
     "duration": 0.024833,
     "end_time": "2025-02-24T14:10:54.687111",
     "exception": false,
     "start_time": "2025-02-24T14:10:54.662278",
     "status": "completed"
    },
    "tags": []
   },
   "outputs": [],
   "source": [
    "df_binary = df[df['Star_type'].isin([2, 3])]  # Example: White Dwarf vs. Main Sequence\n",
    "X = df_binary.drop(columns=['Star_type'])\n",
    "y = df_binary['Star_type']\n"
   ]
  },
  {
   "cell_type": "markdown",
   "id": "d76182f3",
   "metadata": {
    "papermill": {
     "duration": 0.017136,
     "end_time": "2025-02-24T14:10:54.727593",
     "exception": false,
     "start_time": "2025-02-24T14:10:54.710457",
     "status": "completed"
    },
    "tags": []
   },
   "source": [
    "## Split data\n"
   ]
  },
  {
   "cell_type": "code",
   "execution_count": 21,
   "id": "3491d513",
   "metadata": {
    "execution": {
     "iopub.execute_input": "2025-02-24T14:10:54.764683Z",
     "iopub.status.busy": "2025-02-24T14:10:54.764359Z",
     "iopub.status.idle": "2025-02-24T14:10:54.771161Z",
     "shell.execute_reply": "2025-02-24T14:10:54.770357Z"
    },
    "papermill": {
     "duration": 0.024087,
     "end_time": "2025-02-24T14:10:54.772525",
     "exception": false,
     "start_time": "2025-02-24T14:10:54.748438",
     "status": "completed"
    },
    "tags": []
   },
   "outputs": [],
   "source": [
    "X_train, X_test, y_train, y_test = train_test_split(X, y, test_size=0.2, random_state=42, stratify=y)"
   ]
  },
  {
   "cell_type": "markdown",
   "id": "e71f91ab",
   "metadata": {
    "papermill": {
     "duration": 0.014232,
     "end_time": "2025-02-24T14:10:54.801567",
     "exception": false,
     "start_time": "2025-02-24T14:10:54.787335",
     "status": "completed"
    },
    "tags": []
   },
   "source": [
    "## Standardizing numerical features"
   ]
  },
  {
   "cell_type": "code",
   "execution_count": 22,
   "id": "201b5e32",
   "metadata": {
    "execution": {
     "iopub.execute_input": "2025-02-24T14:10:54.832077Z",
     "iopub.status.busy": "2025-02-24T14:10:54.831670Z",
     "iopub.status.idle": "2025-02-24T14:10:54.840676Z",
     "shell.execute_reply": "2025-02-24T14:10:54.839890Z"
    },
    "papermill": {
     "duration": 0.026143,
     "end_time": "2025-02-24T14:10:54.842132",
     "exception": false,
     "start_time": "2025-02-24T14:10:54.815989",
     "status": "completed"
    },
    "tags": []
   },
   "outputs": [],
   "source": [
    "scaler = StandardScaler()\n",
    "X_train = scaler.fit_transform(X_train)\n",
    "X_test = scaler.transform(X_test)"
   ]
  },
  {
   "cell_type": "markdown",
   "id": "9cdc3846",
   "metadata": {
    "papermill": {
     "duration": 0.014711,
     "end_time": "2025-02-24T14:10:54.871475",
     "exception": false,
     "start_time": "2025-02-24T14:10:54.856764",
     "status": "completed"
    },
    "tags": []
   },
   "source": [
    "## Train classifier (Random Forest)"
   ]
  },
  {
   "cell_type": "code",
   "execution_count": 23,
   "id": "98d8f070",
   "metadata": {
    "execution": {
     "iopub.execute_input": "2025-02-24T14:10:54.901926Z",
     "iopub.status.busy": "2025-02-24T14:10:54.901560Z",
     "iopub.status.idle": "2025-02-24T14:10:55.052224Z",
     "shell.execute_reply": "2025-02-24T14:10:55.051230Z"
    },
    "papermill": {
     "duration": 0.168154,
     "end_time": "2025-02-24T14:10:55.054273",
     "exception": false,
     "start_time": "2025-02-24T14:10:54.886119",
     "status": "completed"
    },
    "tags": []
   },
   "outputs": [],
   "source": [
    "clf = RandomForestClassifier(n_estimators=100, random_state=42)\n",
    "clf.fit(X_train, y_train)\n",
    "y_pred = clf.predict(X_test)"
   ]
  },
  {
   "cell_type": "markdown",
   "id": "f113de44",
   "metadata": {
    "papermill": {
     "duration": 0.014476,
     "end_time": "2025-02-24T14:10:55.083801",
     "exception": false,
     "start_time": "2025-02-24T14:10:55.069325",
     "status": "completed"
    },
    "tags": []
   },
   "source": [
    "# Evaluation"
   ]
  },
  {
   "cell_type": "code",
   "execution_count": 24,
   "id": "14fc2c36",
   "metadata": {
    "execution": {
     "iopub.execute_input": "2025-02-24T14:10:55.114658Z",
     "iopub.status.busy": "2025-02-24T14:10:55.114332Z",
     "iopub.status.idle": "2025-02-24T14:10:55.129354Z",
     "shell.execute_reply": "2025-02-24T14:10:55.128217Z"
    },
    "papermill": {
     "duration": 0.032187,
     "end_time": "2025-02-24T14:10:55.130867",
     "exception": false,
     "start_time": "2025-02-24T14:10:55.098680",
     "status": "completed"
    },
    "tags": []
   },
   "outputs": [
    {
     "name": "stdout",
     "output_type": "stream",
     "text": [
      "Accuracy: 1.0\n",
      "[[8 0]\n",
      " [0 8]]\n",
      "              precision    recall  f1-score   support\n",
      "\n",
      "           2       1.00      1.00      1.00         8\n",
      "           3       1.00      1.00      1.00         8\n",
      "\n",
      "    accuracy                           1.00        16\n",
      "   macro avg       1.00      1.00      1.00        16\n",
      "weighted avg       1.00      1.00      1.00        16\n",
      "\n"
     ]
    }
   ],
   "source": [
    "print(\"Accuracy:\", accuracy_score(y_test, y_pred))\n",
    "print(confusion_matrix(y_test, y_pred))\n",
    "print(classification_report(y_test, y_pred))"
   ]
  },
  {
   "cell_type": "markdown",
   "id": "3dbd509b",
   "metadata": {
    "papermill": {
     "duration": 0.014304,
     "end_time": "2025-02-24T14:10:55.159989",
     "exception": false,
     "start_time": "2025-02-24T14:10:55.145685",
     "status": "completed"
    },
    "tags": []
   },
   "source": [
    "## confusion matrix"
   ]
  },
  {
   "cell_type": "markdown",
   "id": "6fe51725",
   "metadata": {
    "papermill": {
     "duration": 0.014897,
     "end_time": "2025-02-24T14:10:55.189562",
     "exception": false,
     "start_time": "2025-02-24T14:10:55.174665",
     "status": "completed"
    },
    "tags": []
   },
   "source": [
    "The confusion matrix helps us understand which star types are misclassified."
   ]
  },
  {
   "cell_type": "code",
   "execution_count": 25,
   "id": "b78c2e4c",
   "metadata": {
    "execution": {
     "iopub.execute_input": "2025-02-24T14:10:55.220628Z",
     "iopub.status.busy": "2025-02-24T14:10:55.220281Z",
     "iopub.status.idle": "2025-02-24T14:10:55.424785Z",
     "shell.execute_reply": "2025-02-24T14:10:55.423759Z"
    },
    "papermill": {
     "duration": 0.221647,
     "end_time": "2025-02-24T14:10:55.426460",
     "exception": false,
     "start_time": "2025-02-24T14:10:55.204813",
     "status": "completed"
    },
    "tags": []
   },
   "outputs": [
    {
     "data": {
      "image/png": "[encoded data removed]",
      "text/plain": [
       "<Figure size 600x500 with 2 Axes>"
      ]
     },
     "metadata": {},
     "output_type": "display_data"
    }
   ],
   "source": [
    "import seaborn as sns\n",
    "import matplotlib.pyplot as plt\n",
    "from sklearn.metrics import confusion_matrix\n",
    "\n",
    "# Compute confusion matrix\n",
    "cm = confusion_matrix(y_test, y_pred)\n",
    "\n",
    "# Plot confusion matrix\n",
    "plt.figure(figsize=(6, 5))\n",
    "sns.heatmap(cm, annot=True, fmt=\"d\", cmap=\"Blues\", xticklabels=y.unique(), yticklabels=y.unique())\n",
    "plt.xlabel(\"Predicted Label\")\n",
    "plt.ylabel(\"True Label\")\n",
    "plt.title(\"Confusion Matrix\")\n",
    "plt.show()\n"
   ]
  },
  {
   "cell_type": "markdown",
   "id": "a8b07500",
   "metadata": {
    "papermill": {
     "duration": 0.014793,
     "end_time": "2025-02-24T14:10:55.456613",
     "exception": false,
     "start_time": "2025-02-24T14:10:55.441820",
     "status": "completed"
    },
    "tags": []
   },
   "source": [
    "* Diagonal values represent correct classifications.\n",
    "* Off-diagonal values indicate misclassifications (which classes get confused)."
   ]
  },
  {
   "cell_type": "markdown",
   "id": "88c7e842",
   "metadata": {
    "papermill": {
     "duration": 0.014726,
     "end_time": "2025-02-24T14:10:55.486845",
     "exception": false,
     "start_time": "2025-02-24T14:10:55.472119",
     "status": "completed"
    },
    "tags": []
   },
   "source": [
    "# Feature importance"
   ]
  },
  {
   "cell_type": "code",
   "execution_count": 26,
   "id": "9eb763ad",
   "metadata": {
    "execution": {
     "iopub.execute_input": "2025-02-24T14:10:55.518474Z",
     "iopub.status.busy": "2025-02-24T14:10:55.518109Z",
     "iopub.status.idle": "2025-02-24T14:10:55.740760Z",
     "shell.execute_reply": "2025-02-24T14:10:55.739786Z"
    },
    "papermill": {
     "duration": 0.240567,
     "end_time": "2025-02-24T14:10:55.742285",
     "exception": false,
     "start_time": "2025-02-24T14:10:55.501718",
     "status": "completed"
    },
    "tags": []
   },
   "outputs": [
    {
     "data": {
      "image/png": "[encoded data removed]",
      "text/plain": [
       "<Figure size 640x480 with 1 Axes>"
      ]
     },
     "metadata": {},
     "output_type": "display_data"
    }
   ],
   "source": [
    "importances = pd.Series(clf.feature_importances_, index=df_binary.drop(columns=['Star_type']).columns)\n",
    "importances.sort_values().plot(kind='barh', title='Feature Importances')\n",
    "plt.show()"
   ]
  },
  {
   "cell_type": "code",
   "execution_count": 27,
   "id": "fbed6a9b",
   "metadata": {
    "execution": {
     "iopub.execute_input": "2025-02-24T14:10:55.777448Z",
     "iopub.status.busy": "2025-02-24T14:10:55.777115Z",
     "iopub.status.idle": "2025-02-24T14:10:55.787027Z",
     "shell.execute_reply": "2025-02-24T14:10:55.785821Z"
    },
    "papermill": {
     "duration": 0.029687,
     "end_time": "2025-02-24T14:10:55.788503",
     "exception": false,
     "start_time": "2025-02-24T14:10:55.758816",
     "status": "completed"
    },
    "tags": []
   },
   "outputs": [
    {
     "name": "stdout",
     "output_type": "stream",
     "text": [
      "<class 'pandas.core.frame.DataFrame'>\n",
      "RangeIndex: 240 entries, 0 to 239\n",
      "Data columns (total 8 columns):\n",
      " #   Column              Non-Null Count  Dtype  \n",
      "---  ------              --------------  -----  \n",
      " 0   Temperature         240 non-null    float64\n",
      " 1   Luminosity          240 non-null    float64\n",
      " 2   Radius              240 non-null    float64\n",
      " 3   Absolute_magnitude  240 non-null    float64\n",
      " 4   Star_type           240 non-null    int64  \n",
      " 5   Star_color          240 non-null    float64\n",
      " 6   Spectral_Class      240 non-null    float64\n",
      " 7   Luminosity_log      240 non-null    float64\n",
      "dtypes: float64(7), int64(1)\n",
      "memory usage: 15.1 KB\n"
     ]
    }
   ],
   "source": [
    "df.info()"
   ]
  }
 ],
 "metadata": {
  "kaggle": {
   "accelerator": "none",
   "dataSources": [
    {
     "datasetId": 391127,
     "sourceId": 754362,
     "sourceType": "datasetVersion"
    }
   ],
   "dockerImageVersionId": 30886,
   "isGpuEnabled": false,
   "isInternetEnabled": false,
   "language": "python",
   "sourceType": "notebook"
  },
  "kernelspec": {
   "display_name": "Python 3",
   "language": "python",
   "name": "python3"
  },
  "language_info": {
   "codemirror_mode": {
    "name": "ipython",
    "version": 3
   },
   "file_extension": ".py",
   "mimetype": "text/x-python",
   "name": "python",
   "nbconvert_exporter": "python",
   "pygments_lexer": "ipython3",
   "version": "3.10.12"
  },
  "papermill": {
   "default_parameters": {},
   "duration": 10.709602,
   "end_time": "2025-02-24T14:10:56.526029",
   "environment_variables": {},
   "exception": null,
   "input_path": "__notebook__.ipynb",
   "output_path": "__notebook__.ipynb",
   "parameters": {},
   "start_time": "2025-02-24T14:10:45.816427",
   "version": "2.6.0"
  }
 },
 "nbformat": 4,
 "nbformat_minor": 5
}
