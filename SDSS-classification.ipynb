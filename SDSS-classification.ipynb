{
 "cells": [
  {
   "cell_type": "markdown",
   "id": "6aa45ce1",
   "metadata": {
    "papermill": {
     "duration": 0.010498,
     "end_time": "2025-03-08T12:10:09.162814",
     "exception": false,
     "start_time": "2025-03-08T12:10:09.152316",
     "status": "completed"
    },
    "tags": []
   },
   "source": [
    "# Import libraries"
   ]
  },
  {
   "cell_type": "code",
   "execution_count": 1,
   "id": "503253b5",
   "metadata": {
    "execution": {
     "iopub.execute_input": "2025-03-08T12:10:09.180518Z",
     "iopub.status.busy": "2025-03-08T12:10:09.180151Z",
     "iopub.status.idle": "2025-03-08T12:10:12.933022Z",
     "shell.execute_reply": "2025-03-08T12:10:12.931923Z"
    },
    "papermill": {
     "duration": 3.763822,
     "end_time": "2025-03-08T12:10:12.934954",
     "exception": false,
     "start_time": "2025-03-08T12:10:09.171132",
     "status": "completed"
    },
    "tags": []
   },
   "outputs": [],
   "source": [
    "import pandas as pd\n",
    "import numpy as np\n",
    "import matplotlib.pyplot as plt\n",
    "import seaborn as sns\n",
    "from sklearn.model_selection import train_test_split, GridSearchCV\n",
    "from sklearn.preprocessing import LabelEncoder, StandardScaler, RobustScaler\n",
    "from sklearn.ensemble import RandomForestClassifier\n",
    "from sklearn.metrics import classification_report, confusion_matrix, accuracy_score\n",
    "from xgboost import XGBClassifier"
   ]
  },
  {
   "cell_type": "code",
   "execution_count": 2,
   "id": "fd58d9e1",
   "metadata": {
    "_cell_guid": "b1076dfc-b9ad-4769-8c92-a6c4dae69d19",
    "_uuid": "8f2839f25d086af736a60e9eeb907d3b93b6e0e5",
    "execution": {
     "iopub.execute_input": "2025-03-08T12:10:12.953534Z",
     "iopub.status.busy": "2025-03-08T12:10:12.952958Z",
     "iopub.status.idle": "2025-03-08T12:10:12.965241Z",
     "shell.execute_reply": "2025-03-08T12:10:12.963904Z"
    },
    "papermill": {
     "duration": 0.023474,
     "end_time": "2025-03-08T12:10:12.967116",
     "exception": false,
     "start_time": "2025-03-08T12:10:12.943642",
     "status": "completed"
    },
    "tags": []
   },
   "outputs": [
    {
     "name": "stdout",
     "output_type": "stream",
     "text": [
      "/kaggle/input/stellar-classification-dataset-sdss17/star_classification.csv\n"
     ]
    }
   ],
   "source": [
    "# This Python 3 environment comes with many helpful analytics libraries installed\n",
    "# It is defined by the kaggle/python Docker image: https://github.com/kaggle/docker-python\n",
    "# For example, here's several helpful packages to load\n",
    "\n",
    "import numpy as np # linear algebra\n",
    "import pandas as pd # data processing, CSV file I/O (e.g. pd.read_csv)\n",
    "\n",
    "# Input data files are available in the read-only \"../input/\" directory\n",
    "# For example, running this (by clicking run or pressing Shift+Enter) will list all files under the input directory\n",
    "\n",
    "import os\n",
    "for dirname, _, filenames in os.walk('/kaggle/input'):\n",
    "    for filename in filenames:\n",
    "        print(os.path.join(dirname, filename))\n",
    "\n",
    "# You can write up to 20GB to the current directory (/kaggle/working/) that gets preserved as output when you create a version using \"Save & Run All\" \n",
    "# You can also write temporary files to /kaggle/temp/, but they won't be saved outside of the current session"
   ]
  },
  {
   "cell_type": "markdown",
   "id": "e6e4038c",
   "metadata": {
    "papermill": {
     "duration": 0.007975,
     "end_time": "2025-03-08T12:10:12.983629",
     "exception": false,
     "start_time": "2025-03-08T12:10:12.975654",
     "status": "completed"
    },
    "tags": []
   },
   "source": [
    "# Read the data"
   ]
  },
  {
   "cell_type": "code",
   "execution_count": 3,
   "id": "791dad5e",
   "metadata": {
    "execution": {
     "iopub.execute_input": "2025-03-08T12:10:13.001322Z",
     "iopub.status.busy": "2025-03-08T12:10:13.000965Z",
     "iopub.status.idle": "2025-03-08T12:10:13.469005Z",
     "shell.execute_reply": "2025-03-08T12:10:13.467592Z"
    },
    "papermill": {
     "duration": 0.479232,
     "end_time": "2025-03-08T12:10:13.471111",
     "exception": false,
     "start_time": "2025-03-08T12:10:12.991879",
     "status": "completed"
    },
    "tags": []
   },
   "outputs": [],
   "source": [
    "# Load the dataset\n",
    "df= pd.read_csv(\"/kaggle/input/stellar-classification-dataset-sdss17/star_classification.csv\")"
   ]
  },
  {
   "cell_type": "markdown",
   "id": "79166749",
   "metadata": {
    "papermill": {
     "duration": 0.00798,
     "end_time": "2025-03-08T12:10:13.487601",
     "exception": false,
     "start_time": "2025-03-08T12:10:13.479621",
     "status": "completed"
    },
    "tags": []
   },
   "source": [
    "# Exploratory Data Analysis (EDA)"
   ]
  },
  {
   "cell_type": "markdown",
   "id": "829c4533",
   "metadata": {
    "papermill": {
     "duration": 0.008071,
     "end_time": "2025-03-08T12:10:13.504032",
     "exception": false,
     "start_time": "2025-03-08T12:10:13.495961",
     "status": "completed"
    },
    "tags": []
   },
   "source": [
    "Display the first few rows"
   ]
  },
  {
   "cell_type": "code",
   "execution_count": 4,
   "id": "9326f986",
   "metadata": {
    "execution": {
     "iopub.execute_input": "2025-03-08T12:10:13.522031Z",
     "iopub.status.busy": "2025-03-08T12:10:13.521693Z",
     "iopub.status.idle": "2025-03-08T12:10:13.554917Z",
     "shell.execute_reply": "2025-03-08T12:10:13.553866Z"
    },
    "papermill": {
     "duration": 0.044325,
     "end_time": "2025-03-08T12:10:13.556919",
     "exception": false,
     "start_time": "2025-03-08T12:10:13.512594",
     "status": "completed"
    },
    "tags": []
   },
   "outputs": [
    {
     "data": {
      "text/html": [
       "<div>\n",
       "<style scoped>\n",
       "    .dataframe tbody tr th:only-of-type {\n",
       "        vertical-align: middle;\n",
       "    }\n",
       "\n",
       "    .dataframe tbody tr th {\n",
       "        vertical-align: top;\n",
       "    }\n",
       "\n",
       "    .dataframe thead th {\n",
       "        text-align: right;\n",
       "    }\n",
       "</style>\n",
       "<table border=\"1\" class=\"dataframe\">\n",
       "  <thead>\n",
       "    <tr style=\"text-align: right;\">\n",
       "      <th></th>\n",
       "      <th>obj_ID</th>\n",
       "      <th>alpha</th>\n",
       "      <th>delta</th>\n",
       "      <th>u</th>\n",
       "      <th>g</th>\n",
       "      <th>r</th>\n",
       "      <th>i</th>\n",
       "      <th>z</th>\n",
       "      <th>run_ID</th>\n",
       "      <th>rerun_ID</th>\n",
       "      <th>cam_col</th>\n",
       "      <th>field_ID</th>\n",
       "      <th>spec_obj_ID</th>\n",
       "      <th>class</th>\n",
       "      <th>redshift</th>\n",
       "      <th>plate</th>\n",
       "      <th>MJD</th>\n",
       "      <th>fiber_ID</th>\n",
       "    </tr>\n",
       "  </thead>\n",
       "  <tbody>\n",
       "    <tr>\n",
       "      <th>0</th>\n",
       "      <td>1.237661e+18</td>\n",
       "      <td>135.689107</td>\n",
       "      <td>32.494632</td>\n",
       "      <td>23.87882</td>\n",
       "      <td>22.27530</td>\n",
       "      <td>20.39501</td>\n",
       "      <td>19.16573</td>\n",
       "      <td>18.79371</td>\n",
       "      <td>3606</td>\n",
       "      <td>301</td>\n",
       "      <td>2</td>\n",
       "      <td>79</td>\n",
       "      <td>6.543777e+18</td>\n",
       "      <td>GALAXY</td>\n",
       "      <td>0.634794</td>\n",
       "      <td>5812</td>\n",
       "      <td>56354</td>\n",
       "      <td>171</td>\n",
       "    </tr>\n",
       "    <tr>\n",
       "      <th>1</th>\n",
       "      <td>1.237665e+18</td>\n",
       "      <td>144.826101</td>\n",
       "      <td>31.274185</td>\n",
       "      <td>24.77759</td>\n",
       "      <td>22.83188</td>\n",
       "      <td>22.58444</td>\n",
       "      <td>21.16812</td>\n",
       "      <td>21.61427</td>\n",
       "      <td>4518</td>\n",
       "      <td>301</td>\n",
       "      <td>5</td>\n",
       "      <td>119</td>\n",
       "      <td>1.176014e+19</td>\n",
       "      <td>GALAXY</td>\n",
       "      <td>0.779136</td>\n",
       "      <td>10445</td>\n",
       "      <td>58158</td>\n",
       "      <td>427</td>\n",
       "    </tr>\n",
       "    <tr>\n",
       "      <th>2</th>\n",
       "      <td>1.237661e+18</td>\n",
       "      <td>142.188790</td>\n",
       "      <td>35.582444</td>\n",
       "      <td>25.26307</td>\n",
       "      <td>22.66389</td>\n",
       "      <td>20.60976</td>\n",
       "      <td>19.34857</td>\n",
       "      <td>18.94827</td>\n",
       "      <td>3606</td>\n",
       "      <td>301</td>\n",
       "      <td>2</td>\n",
       "      <td>120</td>\n",
       "      <td>5.152200e+18</td>\n",
       "      <td>GALAXY</td>\n",
       "      <td>0.644195</td>\n",
       "      <td>4576</td>\n",
       "      <td>55592</td>\n",
       "      <td>299</td>\n",
       "    </tr>\n",
       "    <tr>\n",
       "      <th>3</th>\n",
       "      <td>1.237663e+18</td>\n",
       "      <td>338.741038</td>\n",
       "      <td>-0.402828</td>\n",
       "      <td>22.13682</td>\n",
       "      <td>23.77656</td>\n",
       "      <td>21.61162</td>\n",
       "      <td>20.50454</td>\n",
       "      <td>19.25010</td>\n",
       "      <td>4192</td>\n",
       "      <td>301</td>\n",
       "      <td>3</td>\n",
       "      <td>214</td>\n",
       "      <td>1.030107e+19</td>\n",
       "      <td>GALAXY</td>\n",
       "      <td>0.932346</td>\n",
       "      <td>9149</td>\n",
       "      <td>58039</td>\n",
       "      <td>775</td>\n",
       "    </tr>\n",
       "    <tr>\n",
       "      <th>4</th>\n",
       "      <td>1.237680e+18</td>\n",
       "      <td>345.282593</td>\n",
       "      <td>21.183866</td>\n",
       "      <td>19.43718</td>\n",
       "      <td>17.58028</td>\n",
       "      <td>16.49747</td>\n",
       "      <td>15.97711</td>\n",
       "      <td>15.54461</td>\n",
       "      <td>8102</td>\n",
       "      <td>301</td>\n",
       "      <td>3</td>\n",
       "      <td>137</td>\n",
       "      <td>6.891865e+18</td>\n",
       "      <td>GALAXY</td>\n",
       "      <td>0.116123</td>\n",
       "      <td>6121</td>\n",
       "      <td>56187</td>\n",
       "      <td>842</td>\n",
       "    </tr>\n",
       "  </tbody>\n",
       "</table>\n",
       "</div>"
      ],
      "text/plain": [
       "         obj_ID       alpha      delta         u         g         r  \\\n",
       "0  1.237661e+18  135.689107  32.494632  23.87882  22.27530  20.39501   \n",
       "1  1.237665e+18  144.826101  31.274185  24.77759  22.83188  22.58444   \n",
       "2  1.237661e+18  142.188790  35.582444  25.26307  22.66389  20.60976   \n",
       "3  1.237663e+18  338.741038  -0.402828  22.13682  23.77656  21.61162   \n",
       "4  1.237680e+18  345.282593  21.183866  19.43718  17.58028  16.49747   \n",
       "\n",
       "          i         z  run_ID  rerun_ID  cam_col  field_ID   spec_obj_ID  \\\n",
       "0  19.16573  18.79371    3606       301        2        79  6.543777e+18   \n",
       "1  21.16812  21.61427    4518       301        5       119  1.176014e+19   \n",
       "2  19.34857  18.94827    3606       301        2       120  5.152200e+18   \n",
       "3  20.50454  19.25010    4192       301        3       214  1.030107e+19   \n",
       "4  15.97711  15.54461    8102       301        3       137  6.891865e+18   \n",
       "\n",
       "    class  redshift  plate    MJD  fiber_ID  \n",
       "0  GALAXY  0.634794   5812  56354       171  \n",
       "1  GALAXY  0.779136  10445  58158       427  \n",
       "2  GALAXY  0.644195   4576  55592       299  \n",
       "3  GALAXY  0.932346   9149  58039       775  \n",
       "4  GALAXY  0.116123   6121  56187       842  "
      ]
     },
     "execution_count": 4,
     "metadata": {},
     "output_type": "execute_result"
    }
   ],
   "source": [
    "df.head()"
   ]
  },
  {
   "cell_type": "markdown",
   "id": "71ebc6f9",
   "metadata": {
    "papermill": {
     "duration": 0.00815,
     "end_time": "2025-03-08T12:10:13.573810",
     "exception": false,
     "start_time": "2025-03-08T12:10:13.565660",
     "status": "completed"
    },
    "tags": []
   },
   "source": [
    "Check dataset shape "
   ]
  },
  {
   "cell_type": "code",
   "execution_count": 5,
   "id": "6c0dc07c",
   "metadata": {
    "execution": {
     "iopub.execute_input": "2025-03-08T12:10:13.591990Z",
     "iopub.status.busy": "2025-03-08T12:10:13.591657Z",
     "iopub.status.idle": "2025-03-08T12:10:13.597379Z",
     "shell.execute_reply": "2025-03-08T12:10:13.596324Z"
    },
    "papermill": {
     "duration": 0.016608,
     "end_time": "2025-03-08T12:10:13.599001",
     "exception": false,
     "start_time": "2025-03-08T12:10:13.582393",
     "status": "completed"
    },
    "tags": []
   },
   "outputs": [
    {
     "data": {
      "text/plain": [
       "(100000, 18)"
      ]
     },
     "execution_count": 5,
     "metadata": {},
     "output_type": "execute_result"
    }
   ],
   "source": [
    "df.shape"
   ]
  },
  {
   "cell_type": "markdown",
   "id": "ecb05f47",
   "metadata": {
    "papermill": {
     "duration": 0.008033,
     "end_time": "2025-03-08T12:10:13.615859",
     "exception": false,
     "start_time": "2025-03-08T12:10:13.607826",
     "status": "completed"
    },
    "tags": []
   },
   "source": [
    "Check column types and missing values"
   ]
  },
  {
   "cell_type": "code",
   "execution_count": 6,
   "id": "72674495",
   "metadata": {
    "execution": {
     "iopub.execute_input": "2025-03-08T12:10:13.634212Z",
     "iopub.status.busy": "2025-03-08T12:10:13.633884Z",
     "iopub.status.idle": "2025-03-08T12:10:13.686454Z",
     "shell.execute_reply": "2025-03-08T12:10:13.685263Z"
    },
    "papermill": {
     "duration": 0.063602,
     "end_time": "2025-03-08T12:10:13.688280",
     "exception": false,
     "start_time": "2025-03-08T12:10:13.624678",
     "status": "completed"
    },
    "tags": []
   },
   "outputs": [
    {
     "name": "stdout",
     "output_type": "stream",
     "text": [
      "<class 'pandas.core.frame.DataFrame'>\n",
      "RangeIndex: 100000 entries, 0 to 99999\n",
      "Data columns (total 18 columns):\n",
      " #   Column       Non-Null Count   Dtype  \n",
      "---  ------       --------------   -----  \n",
      " 0   obj_ID       100000 non-null  float64\n",
      " 1   alpha        100000 non-null  float64\n",
      " 2   delta        100000 non-null  float64\n",
      " 3   u            100000 non-null  float64\n",
      " 4   g            100000 non-null  float64\n",
      " 5   r            100000 non-null  float64\n",
      " 6   i            100000 non-null  float64\n",
      " 7   z            100000 non-null  float64\n",
      " 8   run_ID       100000 non-null  int64  \n",
      " 9   rerun_ID     100000 non-null  int64  \n",
      " 10  cam_col      100000 non-null  int64  \n",
      " 11  field_ID     100000 non-null  int64  \n",
      " 12  spec_obj_ID  100000 non-null  float64\n",
      " 13  class        100000 non-null  object \n",
      " 14  redshift     100000 non-null  float64\n",
      " 15  plate        100000 non-null  int64  \n",
      " 16  MJD          100000 non-null  int64  \n",
      " 17  fiber_ID     100000 non-null  int64  \n",
      "dtypes: float64(10), int64(7), object(1)\n",
      "memory usage: 13.7+ MB\n"
     ]
    },
    {
     "data": {
      "text/plain": [
       "obj_ID         0\n",
       "alpha          0\n",
       "delta          0\n",
       "u              0\n",
       "g              0\n",
       "r              0\n",
       "i              0\n",
       "z              0\n",
       "run_ID         0\n",
       "rerun_ID       0\n",
       "cam_col        0\n",
       "field_ID       0\n",
       "spec_obj_ID    0\n",
       "class          0\n",
       "redshift       0\n",
       "plate          0\n",
       "MJD            0\n",
       "fiber_ID       0\n",
       "dtype: int64"
      ]
     },
     "execution_count": 6,
     "metadata": {},
     "output_type": "execute_result"
    }
   ],
   "source": [
    "df.info()\n",
    "df.isnull().sum()"
   ]
  },
  {
   "cell_type": "markdown",
   "id": "deae51fc",
   "metadata": {
    "papermill": {
     "duration": 0.008472,
     "end_time": "2025-03-08T12:10:13.706040",
     "exception": false,
     "start_time": "2025-03-08T12:10:13.697568",
     "status": "completed"
    },
    "tags": []
   },
   "source": [
    "Check for duplicate entries"
   ]
  },
  {
   "cell_type": "code",
   "execution_count": 7,
   "id": "f6bf377f",
   "metadata": {
    "execution": {
     "iopub.execute_input": "2025-03-08T12:10:13.725081Z",
     "iopub.status.busy": "2025-03-08T12:10:13.724729Z",
     "iopub.status.idle": "2025-03-08T12:10:13.807435Z",
     "shell.execute_reply": "2025-03-08T12:10:13.806286Z"
    },
    "papermill": {
     "duration": 0.094495,
     "end_time": "2025-03-08T12:10:13.809407",
     "exception": false,
     "start_time": "2025-03-08T12:10:13.714912",
     "status": "completed"
    },
    "tags": []
   },
   "outputs": [
    {
     "data": {
      "text/plain": [
       "0"
      ]
     },
     "execution_count": 7,
     "metadata": {},
     "output_type": "execute_result"
    }
   ],
   "source": [
    "df.duplicated().sum()"
   ]
  },
  {
   "cell_type": "markdown",
   "id": "28d89e4f",
   "metadata": {
    "papermill": {
     "duration": 0.008653,
     "end_time": "2025-03-08T12:10:13.827396",
     "exception": false,
     "start_time": "2025-03-08T12:10:13.818743",
     "status": "completed"
    },
    "tags": []
   },
   "source": [
    "# Statistical Summary"
   ]
  },
  {
   "cell_type": "markdown",
   "id": "27b56e24",
   "metadata": {
    "papermill": {
     "duration": 0.008711,
     "end_time": "2025-03-08T12:10:13.845223",
     "exception": false,
     "start_time": "2025-03-08T12:10:13.836512",
     "status": "completed"
    },
    "tags": []
   },
   "source": [
    "Get a general statistical overview"
   ]
  },
  {
   "cell_type": "code",
   "execution_count": 8,
   "id": "b836777a",
   "metadata": {
    "execution": {
     "iopub.execute_input": "2025-03-08T12:10:13.864363Z",
     "iopub.status.busy": "2025-03-08T12:10:13.864024Z",
     "iopub.status.idle": "2025-03-08T12:10:13.981626Z",
     "shell.execute_reply": "2025-03-08T12:10:13.980390Z"
    },
    "papermill": {
     "duration": 0.129126,
     "end_time": "2025-03-08T12:10:13.983334",
     "exception": false,
     "start_time": "2025-03-08T12:10:13.854208",
     "status": "completed"
    },
    "tags": []
   },
   "outputs": [
    {
     "data": {
      "text/html": [
       "<div>\n",
       "<style scoped>\n",
       "    .dataframe tbody tr th:only-of-type {\n",
       "        vertical-align: middle;\n",
       "    }\n",
       "\n",
       "    .dataframe tbody tr th {\n",
       "        vertical-align: top;\n",
       "    }\n",
       "\n",
       "    .dataframe thead th {\n",
       "        text-align: right;\n",
       "    }\n",
       "</style>\n",
       "<table border=\"1\" class=\"dataframe\">\n",
       "  <thead>\n",
       "    <tr style=\"text-align: right;\">\n",
       "      <th></th>\n",
       "      <th>obj_ID</th>\n",
       "      <th>alpha</th>\n",
       "      <th>delta</th>\n",
       "      <th>u</th>\n",
       "      <th>g</th>\n",
       "      <th>r</th>\n",
       "      <th>i</th>\n",
       "      <th>z</th>\n",
       "      <th>run_ID</th>\n",
       "      <th>rerun_ID</th>\n",
       "      <th>cam_col</th>\n",
       "      <th>field_ID</th>\n",
       "      <th>spec_obj_ID</th>\n",
       "      <th>redshift</th>\n",
       "      <th>plate</th>\n",
       "      <th>MJD</th>\n",
       "      <th>fiber_ID</th>\n",
       "    </tr>\n",
       "  </thead>\n",
       "  <tbody>\n",
       "    <tr>\n",
       "      <th>count</th>\n",
       "      <td>1.000000e+05</td>\n",
       "      <td>100000.000000</td>\n",
       "      <td>100000.000000</td>\n",
       "      <td>100000.000000</td>\n",
       "      <td>100000.000000</td>\n",
       "      <td>100000.000000</td>\n",
       "      <td>100000.000000</td>\n",
       "      <td>100000.000000</td>\n",
       "      <td>100000.000000</td>\n",
       "      <td>100000.0</td>\n",
       "      <td>100000.000000</td>\n",
       "      <td>100000.000000</td>\n",
       "      <td>1.000000e+05</td>\n",
       "      <td>100000.000000</td>\n",
       "      <td>100000.000000</td>\n",
       "      <td>100000.000000</td>\n",
       "      <td>100000.000000</td>\n",
       "    </tr>\n",
       "    <tr>\n",
       "      <th>mean</th>\n",
       "      <td>1.237665e+18</td>\n",
       "      <td>177.629117</td>\n",
       "      <td>24.135305</td>\n",
       "      <td>21.980468</td>\n",
       "      <td>20.531387</td>\n",
       "      <td>19.645762</td>\n",
       "      <td>19.084854</td>\n",
       "      <td>18.668810</td>\n",
       "      <td>4481.366060</td>\n",
       "      <td>301.0</td>\n",
       "      <td>3.511610</td>\n",
       "      <td>186.130520</td>\n",
       "      <td>5.783882e+18</td>\n",
       "      <td>0.576661</td>\n",
       "      <td>5137.009660</td>\n",
       "      <td>55588.647500</td>\n",
       "      <td>449.312740</td>\n",
       "    </tr>\n",
       "    <tr>\n",
       "      <th>std</th>\n",
       "      <td>8.438560e+12</td>\n",
       "      <td>96.502241</td>\n",
       "      <td>19.644665</td>\n",
       "      <td>31.769291</td>\n",
       "      <td>31.750292</td>\n",
       "      <td>1.854760</td>\n",
       "      <td>1.757895</td>\n",
       "      <td>31.728152</td>\n",
       "      <td>1964.764593</td>\n",
       "      <td>0.0</td>\n",
       "      <td>1.586912</td>\n",
       "      <td>149.011073</td>\n",
       "      <td>3.324016e+18</td>\n",
       "      <td>0.730707</td>\n",
       "      <td>2952.303351</td>\n",
       "      <td>1808.484233</td>\n",
       "      <td>272.498404</td>\n",
       "    </tr>\n",
       "    <tr>\n",
       "      <th>min</th>\n",
       "      <td>1.237646e+18</td>\n",
       "      <td>0.005528</td>\n",
       "      <td>-18.785328</td>\n",
       "      <td>-9999.000000</td>\n",
       "      <td>-9999.000000</td>\n",
       "      <td>9.822070</td>\n",
       "      <td>9.469903</td>\n",
       "      <td>-9999.000000</td>\n",
       "      <td>109.000000</td>\n",
       "      <td>301.0</td>\n",
       "      <td>1.000000</td>\n",
       "      <td>11.000000</td>\n",
       "      <td>2.995191e+17</td>\n",
       "      <td>-0.009971</td>\n",
       "      <td>266.000000</td>\n",
       "      <td>51608.000000</td>\n",
       "      <td>1.000000</td>\n",
       "    </tr>\n",
       "    <tr>\n",
       "      <th>25%</th>\n",
       "      <td>1.237659e+18</td>\n",
       "      <td>127.518222</td>\n",
       "      <td>5.146771</td>\n",
       "      <td>20.352353</td>\n",
       "      <td>18.965230</td>\n",
       "      <td>18.135828</td>\n",
       "      <td>17.732285</td>\n",
       "      <td>17.460677</td>\n",
       "      <td>3187.000000</td>\n",
       "      <td>301.0</td>\n",
       "      <td>2.000000</td>\n",
       "      <td>82.000000</td>\n",
       "      <td>2.844138e+18</td>\n",
       "      <td>0.054517</td>\n",
       "      <td>2526.000000</td>\n",
       "      <td>54234.000000</td>\n",
       "      <td>221.000000</td>\n",
       "    </tr>\n",
       "    <tr>\n",
       "      <th>50%</th>\n",
       "      <td>1.237663e+18</td>\n",
       "      <td>180.900700</td>\n",
       "      <td>23.645922</td>\n",
       "      <td>22.179135</td>\n",
       "      <td>21.099835</td>\n",
       "      <td>20.125290</td>\n",
       "      <td>19.405145</td>\n",
       "      <td>19.004595</td>\n",
       "      <td>4188.000000</td>\n",
       "      <td>301.0</td>\n",
       "      <td>4.000000</td>\n",
       "      <td>146.000000</td>\n",
       "      <td>5.614883e+18</td>\n",
       "      <td>0.424173</td>\n",
       "      <td>4987.000000</td>\n",
       "      <td>55868.500000</td>\n",
       "      <td>433.000000</td>\n",
       "    </tr>\n",
       "    <tr>\n",
       "      <th>75%</th>\n",
       "      <td>1.237668e+18</td>\n",
       "      <td>233.895005</td>\n",
       "      <td>39.901550</td>\n",
       "      <td>23.687440</td>\n",
       "      <td>22.123767</td>\n",
       "      <td>21.044785</td>\n",
       "      <td>20.396495</td>\n",
       "      <td>19.921120</td>\n",
       "      <td>5326.000000</td>\n",
       "      <td>301.0</td>\n",
       "      <td>5.000000</td>\n",
       "      <td>241.000000</td>\n",
       "      <td>8.332144e+18</td>\n",
       "      <td>0.704154</td>\n",
       "      <td>7400.250000</td>\n",
       "      <td>56777.000000</td>\n",
       "      <td>645.000000</td>\n",
       "    </tr>\n",
       "    <tr>\n",
       "      <th>max</th>\n",
       "      <td>1.237681e+18</td>\n",
       "      <td>359.999810</td>\n",
       "      <td>83.000519</td>\n",
       "      <td>32.781390</td>\n",
       "      <td>31.602240</td>\n",
       "      <td>29.571860</td>\n",
       "      <td>32.141470</td>\n",
       "      <td>29.383740</td>\n",
       "      <td>8162.000000</td>\n",
       "      <td>301.0</td>\n",
       "      <td>6.000000</td>\n",
       "      <td>989.000000</td>\n",
       "      <td>1.412694e+19</td>\n",
       "      <td>7.011245</td>\n",
       "      <td>12547.000000</td>\n",
       "      <td>58932.000000</td>\n",
       "      <td>1000.000000</td>\n",
       "    </tr>\n",
       "  </tbody>\n",
       "</table>\n",
       "</div>"
      ],
      "text/plain": [
       "             obj_ID          alpha          delta              u  \\\n",
       "count  1.000000e+05  100000.000000  100000.000000  100000.000000   \n",
       "mean   1.237665e+18     177.629117      24.135305      21.980468   \n",
       "std    8.438560e+12      96.502241      19.644665      31.769291   \n",
       "min    1.237646e+18       0.005528     -18.785328   -9999.000000   \n",
       "25%    1.237659e+18     127.518222       5.146771      20.352353   \n",
       "50%    1.237663e+18     180.900700      23.645922      22.179135   \n",
       "75%    1.237668e+18     233.895005      39.901550      23.687440   \n",
       "max    1.237681e+18     359.999810      83.000519      32.781390   \n",
       "\n",
       "                   g              r              i              z  \\\n",
       "count  100000.000000  100000.000000  100000.000000  100000.000000   \n",
       "mean       20.531387      19.645762      19.084854      18.668810   \n",
       "std        31.750292       1.854760       1.757895      31.728152   \n",
       "min     -9999.000000       9.822070       9.469903   -9999.000000   \n",
       "25%        18.965230      18.135828      17.732285      17.460677   \n",
       "50%        21.099835      20.125290      19.405145      19.004595   \n",
       "75%        22.123767      21.044785      20.396495      19.921120   \n",
       "max        31.602240      29.571860      32.141470      29.383740   \n",
       "\n",
       "              run_ID  rerun_ID        cam_col       field_ID   spec_obj_ID  \\\n",
       "count  100000.000000  100000.0  100000.000000  100000.000000  1.000000e+05   \n",
       "mean     4481.366060     301.0       3.511610     186.130520  5.783882e+18   \n",
       "std      1964.764593       0.0       1.586912     149.011073  3.324016e+18   \n",
       "min       109.000000     301.0       1.000000      11.000000  2.995191e+17   \n",
       "25%      3187.000000     301.0       2.000000      82.000000  2.844138e+18   \n",
       "50%      4188.000000     301.0       4.000000     146.000000  5.614883e+18   \n",
       "75%      5326.000000     301.0       5.000000     241.000000  8.332144e+18   \n",
       "max      8162.000000     301.0       6.000000     989.000000  1.412694e+19   \n",
       "\n",
       "            redshift          plate            MJD       fiber_ID  \n",
       "count  100000.000000  100000.000000  100000.000000  100000.000000  \n",
       "mean        0.576661    5137.009660   55588.647500     449.312740  \n",
       "std         0.730707    2952.303351    1808.484233     272.498404  \n",
       "min        -0.009971     266.000000   51608.000000       1.000000  \n",
       "25%         0.054517    2526.000000   54234.000000     221.000000  \n",
       "50%         0.424173    4987.000000   55868.500000     433.000000  \n",
       "75%         0.704154    7400.250000   56777.000000     645.000000  \n",
       "max         7.011245   12547.000000   58932.000000    1000.000000  "
      ]
     },
     "execution_count": 8,
     "metadata": {},
     "output_type": "execute_result"
    }
   ],
   "source": [
    "df.describe()"
   ]
  },
  {
   "cell_type": "markdown",
   "id": "ec3d6836",
   "metadata": {
    "papermill": {
     "duration": 0.009043,
     "end_time": "2025-03-08T12:10:14.001984",
     "exception": false,
     "start_time": "2025-03-08T12:10:13.992941",
     "status": "completed"
    },
    "tags": []
   },
   "source": [
    "Check for class distribution"
   ]
  },
  {
   "cell_type": "code",
   "execution_count": 9,
   "id": "771b7018",
   "metadata": {
    "execution": {
     "iopub.execute_input": "2025-03-08T12:10:14.021790Z",
     "iopub.status.busy": "2025-03-08T12:10:14.021406Z",
     "iopub.status.idle": "2025-03-08T12:10:14.035680Z",
     "shell.execute_reply": "2025-03-08T12:10:14.034643Z"
    },
    "papermill": {
     "duration": 0.02617,
     "end_time": "2025-03-08T12:10:14.037402",
     "exception": false,
     "start_time": "2025-03-08T12:10:14.011232",
     "status": "completed"
    },
    "tags": []
   },
   "outputs": [
    {
     "data": {
      "text/plain": [
       "class\n",
       "GALAXY    59445\n",
       "STAR      21594\n",
       "QSO       18961\n",
       "Name: count, dtype: int64"
      ]
     },
     "execution_count": 9,
     "metadata": {},
     "output_type": "execute_result"
    }
   ],
   "source": [
    "df['class'].value_counts()"
   ]
  },
  {
   "cell_type": "markdown",
   "id": "14b4bffa",
   "metadata": {
    "papermill": {
     "duration": 0.008976,
     "end_time": "2025-03-08T12:10:14.055891",
     "exception": false,
     "start_time": "2025-03-08T12:10:14.046915",
     "status": "completed"
    },
    "tags": []
   },
   "source": [
    " # Visualizing the Class Distribution"
   ]
  },
  {
   "cell_type": "code",
   "execution_count": 10,
   "id": "423e7272",
   "metadata": {
    "execution": {
     "iopub.execute_input": "2025-03-08T12:10:14.075635Z",
     "iopub.status.busy": "2025-03-08T12:10:14.075261Z",
     "iopub.status.idle": "2025-03-08T12:10:14.382925Z",
     "shell.execute_reply": "2025-03-08T12:10:14.381794Z"
    },
    "papermill": {
     "duration": 0.319527,
     "end_time": "2025-03-08T12:10:14.384640",
     "exception": false,
     "start_time": "2025-03-08T12:10:14.065113",
     "status": "completed"
    },
    "tags": []
   },
   "outputs": [
    {
     "data": {
      "image/png": "[encoded data removed]",
      "text/plain": [
       "<Figure size 800x500 with 1 Axes>"
      ]
     },
     "metadata": {},
     "output_type": "display_data"
    }
   ],
   "source": [
    "plt.figure(figsize=(8,5))\n",
    "sns.countplot(x=df['class'], palette=\"viridis\")\n",
    "plt.title(\"Distribution of Object Classes\")\n",
    "plt.xlabel(\"Class (0=Galaxy, 1=Star, 2=Quasar)\")\n",
    "plt.ylabel(\"Count\")\n",
    "plt.show()"
   ]
  },
  {
   "cell_type": "markdown",
   "id": "2755d71b",
   "metadata": {
    "papermill": {
     "duration": 0.010647,
     "end_time": "2025-03-08T12:10:14.405557",
     "exception": false,
     "start_time": "2025-03-08T12:10:14.394910",
     "status": "completed"
    },
    "tags": []
   },
   "source": [
    "# Feature Distributions"
   ]
  },
  {
   "cell_type": "markdown",
   "id": "e09b6888",
   "metadata": {
    "papermill": {
     "duration": 0.009603,
     "end_time": "2025-03-08T12:10:14.425148",
     "exception": false,
     "start_time": "2025-03-08T12:10:14.415545",
     "status": "completed"
    },
    "tags": []
   },
   "source": [
    "Bar plot of object counts (stars, galaxies, quasars)\n",
    "Check if the classes are balanced"
   ]
  },
  {
   "cell_type": "code",
   "execution_count": 11,
   "id": "dc19fced",
   "metadata": {
    "execution": {
     "iopub.execute_input": "2025-03-08T12:10:14.446619Z",
     "iopub.status.busy": "2025-03-08T12:10:14.446147Z",
     "iopub.status.idle": "2025-03-08T12:10:16.200708Z",
     "shell.execute_reply": "2025-03-08T12:10:16.199405Z"
    },
    "papermill": {
     "duration": 1.767383,
     "end_time": "2025-03-08T12:10:16.202580",
     "exception": false,
     "start_time": "2025-03-08T12:10:14.435197",
     "status": "completed"
    },
    "tags": []
   },
   "outputs": [
    {
     "data": {
      "image/png": "[encoded data removed]",
      "text/plain": [
       "<Figure size 1200x800 with 9 Axes>"
      ]
     },
     "metadata": {},
     "output_type": "display_data"
    }
   ],
   "source": [
    "num_features = ['alpha', 'delta', 'u', 'g', 'r', 'i', 'z', 'redshift']\n",
    "df[num_features].hist(figsize=(12, 8), bins=30, edgecolor='black')\n",
    "plt.suptitle(\"Feature Distributions\", fontsize=16)\n",
    "plt.show()"
   ]
  },
  {
   "cell_type": "markdown",
   "id": "5644fb79",
   "metadata": {
    "papermill": {
     "duration": 0.011665,
     "end_time": "2025-03-08T12:10:16.226117",
     "exception": false,
     "start_time": "2025-03-08T12:10:16.214452",
     "status": "completed"
    },
    "tags": []
   },
   "source": [
    "KDE Plots"
   ]
  },
  {
   "cell_type": "code",
   "execution_count": 12,
   "id": "45acfbe1",
   "metadata": {
    "execution": {
     "iopub.execute_input": "2025-03-08T12:10:16.252018Z",
     "iopub.status.busy": "2025-03-08T12:10:16.251650Z",
     "iopub.status.idle": "2025-03-08T12:10:19.975403Z",
     "shell.execute_reply": "2025-03-08T12:10:19.974195Z"
    },
    "papermill": {
     "duration": 3.739158,
     "end_time": "2025-03-08T12:10:19.977170",
     "exception": false,
     "start_time": "2025-03-08T12:10:16.238012",
     "status": "completed"
    },
    "tags": []
   },
   "outputs": [
    {
     "name": "stderr",
     "output_type": "stream",
     "text": [
      "/usr/local/lib/python3.10/dist-packages/seaborn/_oldcore.py:1119: FutureWarning: use_inf_as_na option is deprecated and will be removed in a future version. Convert inf values to NaN before operating instead.\n",
      "  with pd.option_context('mode.use_inf_as_na', True):\n",
      "/usr/local/lib/python3.10/dist-packages/seaborn/_oldcore.py:1119: FutureWarning: use_inf_as_na option is deprecated and will be removed in a future version. Convert inf values to NaN before operating instead.\n",
      "  with pd.option_context('mode.use_inf_as_na', True):\n",
      "/usr/local/lib/python3.10/dist-packages/seaborn/_oldcore.py:1119: FutureWarning: use_inf_as_na option is deprecated and will be removed in a future version. Convert inf values to NaN before operating instead.\n",
      "  with pd.option_context('mode.use_inf_as_na', True):\n",
      "/usr/local/lib/python3.10/dist-packages/seaborn/_oldcore.py:1119: FutureWarning: use_inf_as_na option is deprecated and will be removed in a future version. Convert inf values to NaN before operating instead.\n",
      "  with pd.option_context('mode.use_inf_as_na', True):\n",
      "/usr/local/lib/python3.10/dist-packages/seaborn/_oldcore.py:1119: FutureWarning: use_inf_as_na option is deprecated and will be removed in a future version. Convert inf values to NaN before operating instead.\n",
      "  with pd.option_context('mode.use_inf_as_na', True):\n",
      "/usr/local/lib/python3.10/dist-packages/seaborn/_oldcore.py:1119: FutureWarning: use_inf_as_na option is deprecated and will be removed in a future version. Convert inf values to NaN before operating instead.\n",
      "  with pd.option_context('mode.use_inf_as_na', True):\n",
      "/usr/local/lib/python3.10/dist-packages/seaborn/_oldcore.py:1119: FutureWarning: use_inf_as_na option is deprecated and will be removed in a future version. Convert inf values to NaN before operating instead.\n",
      "  with pd.option_context('mode.use_inf_as_na', True):\n",
      "/usr/local/lib/python3.10/dist-packages/seaborn/_oldcore.py:1119: FutureWarning: use_inf_as_na option is deprecated and will be removed in a future version. Convert inf values to NaN before operating instead.\n",
      "  with pd.option_context('mode.use_inf_as_na', True):\n"
     ]
    },
    {
     "data": {
      "image/png": "[encoded data removed]",
      "text/plain": [
       "<Figure size 1200x600 with 1 Axes>"
      ]
     },
     "metadata": {},
     "output_type": "display_data"
    }
   ],
   "source": [
    "plt.figure(figsize=(12,6))\n",
    "for col in num_features:\n",
    "    sns.kdeplot(df[col], label=col)\n",
    "plt.legend()\n",
    "plt.title(\"Feature Density Distributions\")\n",
    "plt.show()"
   ]
  },
  {
   "cell_type": "markdown",
   "id": "ed8b7f06",
   "metadata": {
    "papermill": {
     "duration": 0.013222,
     "end_time": "2025-03-08T12:10:20.003761",
     "exception": false,
     "start_time": "2025-03-08T12:10:19.990539",
     "status": "completed"
    },
    "tags": []
   },
   "source": [
    "# Correlation Matrix"
   ]
  },
  {
   "cell_type": "code",
   "execution_count": 13,
   "id": "ddbd2726",
   "metadata": {
    "execution": {
     "iopub.execute_input": "2025-03-08T12:10:20.031961Z",
     "iopub.status.busy": "2025-03-08T12:10:20.031433Z",
     "iopub.status.idle": "2025-03-08T12:10:20.455671Z",
     "shell.execute_reply": "2025-03-08T12:10:20.454441Z"
    },
    "papermill": {
     "duration": 0.440879,
     "end_time": "2025-03-08T12:10:20.457503",
     "exception": false,
     "start_time": "2025-03-08T12:10:20.016624",
     "status": "completed"
    },
    "tags": []
   },
   "outputs": [
    {
     "data": {
      "image/png": "[encoded data removed]",
      "text/plain": [
       "<Figure size 1000x800 with 2 Axes>"
      ]
     },
     "metadata": {},
     "output_type": "display_data"
    }
   ],
   "source": [
    "plt.figure(figsize=(10, 8))\n",
    "sns.heatmap(df[num_features].corr(), annot=True, cmap=\"coolwarm\", fmt=\".2f\")\n",
    "plt.title(\"Feature Correlation Heatmap\")\n",
    "plt.show()\n"
   ]
  },
  {
   "cell_type": "markdown",
   "id": "303cf413",
   "metadata": {
    "papermill": {
     "duration": 0.014215,
     "end_time": "2025-03-08T12:10:20.486144",
     "exception": false,
     "start_time": "2025-03-08T12:10:20.471929",
     "status": "completed"
    },
    "tags": []
   },
   "source": [
    "# Feature vs Target Analysis"
   ]
  },
  {
   "cell_type": "markdown",
   "id": "47cf7009",
   "metadata": {
    "papermill": {
     "duration": 0.013747,
     "end_time": "2025-03-08T12:10:20.513920",
     "exception": false,
     "start_time": "2025-03-08T12:10:20.500173",
     "status": "completed"
    },
    "tags": []
   },
   "source": [
    "Relationship Between Features and Target"
   ]
  },
  {
   "cell_type": "code",
   "execution_count": 14,
   "id": "11788286",
   "metadata": {
    "execution": {
     "iopub.execute_input": "2025-03-08T12:10:20.543220Z",
     "iopub.status.busy": "2025-03-08T12:10:20.542879Z",
     "iopub.status.idle": "2025-03-08T12:10:20.791849Z",
     "shell.execute_reply": "2025-03-08T12:10:20.790616Z"
    },
    "papermill": {
     "duration": 0.265944,
     "end_time": "2025-03-08T12:10:20.793850",
     "exception": false,
     "start_time": "2025-03-08T12:10:20.527906",
     "status": "completed"
    },
    "tags": []
   },
   "outputs": [
    {
     "data": {
      "image/png": "[encoded data removed]",
      "text/plain": [
       "<Figure size 800x500 with 1 Axes>"
      ]
     },
     "metadata": {},
     "output_type": "display_data"
    }
   ],
   "source": [
    "plt.figure(figsize=(8,5))\n",
    "sns.boxplot(x=df['class'], y=df['redshift'], palette=\"muted\")\n",
    "plt.title(\"Redshift Distribution by Class\")\n",
    "plt.xlabel(\"Class (0=Galaxy, 1=Star, 2=Quasar)\")\n",
    "plt.ylabel(\"Redshift\")\n",
    "plt.show()"
   ]
  },
  {
   "cell_type": "markdown",
   "id": "28260d03",
   "metadata": {
    "papermill": {
     "duration": 0.015207,
     "end_time": "2025-03-08T12:10:20.824108",
     "exception": false,
     "start_time": "2025-03-08T12:10:20.808901",
     "status": "completed"
    },
    "tags": []
   },
   "source": [
    "#  Feature Engineering"
   ]
  },
  {
   "cell_type": "markdown",
   "id": "493ffd28",
   "metadata": {
    "papermill": {
     "duration": 0.014644,
     "end_time": "2025-03-08T12:10:20.853512",
     "exception": false,
     "start_time": "2025-03-08T12:10:20.838868",
     "status": "completed"
    },
    "tags": []
   },
   "source": [
    "Drop unnecessary ID columns"
   ]
  },
  {
   "cell_type": "code",
   "execution_count": 15,
   "id": "61bf9949",
   "metadata": {
    "execution": {
     "iopub.execute_input": "2025-03-08T12:10:20.884835Z",
     "iopub.status.busy": "2025-03-08T12:10:20.884399Z",
     "iopub.status.idle": "2025-03-08T12:10:20.892662Z",
     "shell.execute_reply": "2025-03-08T12:10:20.891628Z"
    },
    "papermill": {
     "duration": 0.026108,
     "end_time": "2025-03-08T12:10:20.894570",
     "exception": false,
     "start_time": "2025-03-08T12:10:20.868462",
     "status": "completed"
    },
    "tags": []
   },
   "outputs": [],
   "source": [
    "df = df.drop(columns=[\"obj_ID\", \"spec_obj_ID\", \"run_ID\", \"rerun_ID\", \"cam_col\", \"field_ID\", \"plate\", \"MJD\", \"fiber_ID\"])"
   ]
  },
  {
   "cell_type": "markdown",
   "id": "a03c4e15",
   "metadata": {
    "papermill": {
     "duration": 0.014501,
     "end_time": "2025-03-08T12:10:20.924402",
     "exception": false,
     "start_time": "2025-03-08T12:10:20.909901",
     "status": "completed"
    },
    "tags": []
   },
   "source": [
    "Encode the target variable"
   ]
  },
  {
   "cell_type": "code",
   "execution_count": 16,
   "id": "84b269ad",
   "metadata": {
    "execution": {
     "iopub.execute_input": "2025-03-08T12:10:20.956001Z",
     "iopub.status.busy": "2025-03-08T12:10:20.955639Z",
     "iopub.status.idle": "2025-03-08T12:10:20.983461Z",
     "shell.execute_reply": "2025-03-08T12:10:20.982341Z"
    },
    "papermill": {
     "duration": 0.045762,
     "end_time": "2025-03-08T12:10:20.985376",
     "exception": false,
     "start_time": "2025-03-08T12:10:20.939614",
     "status": "completed"
    },
    "tags": []
   },
   "outputs": [],
   "source": [
    "label_encoder = LabelEncoder()\n",
    "df[\"class\"] = label_encoder.fit_transform(df[\"class\"])"
   ]
  },
  {
   "cell_type": "markdown",
   "id": "63ae772b",
   "metadata": {
    "papermill": {
     "duration": 0.014306,
     "end_time": "2025-03-08T12:10:21.014525",
     "exception": false,
     "start_time": "2025-03-08T12:10:21.000219",
     "status": "completed"
    },
    "tags": []
   },
   "source": [
    "Create color index features (Magnitude differences)"
   ]
  },
  {
   "cell_type": "code",
   "execution_count": 17,
   "id": "74a5c78c",
   "metadata": {
    "execution": {
     "iopub.execute_input": "2025-03-08T12:10:21.045850Z",
     "iopub.status.busy": "2025-03-08T12:10:21.045426Z",
     "iopub.status.idle": "2025-03-08T12:10:21.055680Z",
     "shell.execute_reply": "2025-03-08T12:10:21.054460Z"
    },
    "papermill": {
     "duration": 0.028561,
     "end_time": "2025-03-08T12:10:21.057882",
     "exception": false,
     "start_time": "2025-03-08T12:10:21.029321",
     "status": "completed"
    },
    "tags": []
   },
   "outputs": [],
   "source": [
    "df[\"u-g\"] = df[\"u\"] - df[\"g\"]\n",
    "df[\"g-r\"] = df[\"g\"] - df[\"r\"]\n",
    "df[\"r-i\"] = df[\"r\"] - df[\"i\"]\n",
    "df[\"i-z\"] = df[\"i\"] - df[\"z\"]"
   ]
  },
  {
   "cell_type": "markdown",
   "id": "f74340de",
   "metadata": {
    "papermill": {
     "duration": 0.014498,
     "end_time": "2025-03-08T12:10:21.087790",
     "exception": false,
     "start_time": "2025-03-08T12:10:21.073292",
     "status": "completed"
    },
    "tags": []
   },
   "source": [
    "Log Transformation for redshift (reduce skewness)"
   ]
  },
  {
   "cell_type": "code",
   "execution_count": 18,
   "id": "53732784",
   "metadata": {
    "execution": {
     "iopub.execute_input": "2025-03-08T12:10:21.118724Z",
     "iopub.status.busy": "2025-03-08T12:10:21.118268Z",
     "iopub.status.idle": "2025-03-08T12:10:21.132069Z",
     "shell.execute_reply": "2025-03-08T12:10:21.130949Z"
    },
    "papermill": {
     "duration": 0.031501,
     "end_time": "2025-03-08T12:10:21.134078",
     "exception": false,
     "start_time": "2025-03-08T12:10:21.102577",
     "status": "completed"
    },
    "tags": []
   },
   "outputs": [],
   "source": [
    "df[\"log_redshift\"] = np.log1p(df[\"redshift\"])  # log(1 + redshift) to avoid log(0)"
   ]
  },
  {
   "cell_type": "markdown",
   "id": "e858eec6",
   "metadata": {
    "papermill": {
     "duration": 0.014449,
     "end_time": "2025-03-08T12:10:21.163604",
     "exception": false,
     "start_time": "2025-03-08T12:10:21.149155",
     "status": "completed"
    },
    "tags": []
   },
   "source": [
    "Drop original redshift column (since we now use log_redshift)"
   ]
  },
  {
   "cell_type": "code",
   "execution_count": 19,
   "id": "27c055fc",
   "metadata": {
    "execution": {
     "iopub.execute_input": "2025-03-08T12:10:21.195626Z",
     "iopub.status.busy": "2025-03-08T12:10:21.195194Z",
     "iopub.status.idle": "2025-03-08T12:10:21.209954Z",
     "shell.execute_reply": "2025-03-08T12:10:21.208728Z"
    },
    "papermill": {
     "duration": 0.03351,
     "end_time": "2025-03-08T12:10:21.211945",
     "exception": false,
     "start_time": "2025-03-08T12:10:21.178435",
     "status": "completed"
    },
    "tags": []
   },
   "outputs": [],
   "source": [
    "df = df.drop(columns=[\"redshift\"])"
   ]
  },
  {
   "cell_type": "markdown",
   "id": "86dae056",
   "metadata": {
    "papermill": {
     "duration": 0.016064,
     "end_time": "2025-03-08T12:10:21.243750",
     "exception": false,
     "start_time": "2025-03-08T12:10:21.227686",
     "status": "completed"
    },
    "tags": []
   },
   "source": [
    "Split features and target"
   ]
  },
  {
   "cell_type": "code",
   "execution_count": 20,
   "id": "414bee21",
   "metadata": {
    "execution": {
     "iopub.execute_input": "2025-03-08T12:10:21.274821Z",
     "iopub.status.busy": "2025-03-08T12:10:21.274371Z",
     "iopub.status.idle": "2025-03-08T12:10:21.282628Z",
     "shell.execute_reply": "2025-03-08T12:10:21.281622Z"
    },
    "papermill": {
     "duration": 0.025889,
     "end_time": "2025-03-08T12:10:21.284456",
     "exception": false,
     "start_time": "2025-03-08T12:10:21.258567",
     "status": "completed"
    },
    "tags": []
   },
   "outputs": [],
   "source": [
    "X = df.drop(columns=[\"class\"])\n",
    "y = df[\"class\"]"
   ]
  },
  {
   "cell_type": "markdown",
   "id": "73582845",
   "metadata": {
    "papermill": {
     "duration": 0.015072,
     "end_time": "2025-03-08T12:10:21.314645",
     "exception": false,
     "start_time": "2025-03-08T12:10:21.299573",
     "status": "completed"
    },
    "tags": []
   },
   "source": [
    "Scale numerical features"
   ]
  },
  {
   "cell_type": "code",
   "execution_count": 21,
   "id": "2b204372",
   "metadata": {
    "execution": {
     "iopub.execute_input": "2025-03-08T12:10:21.345707Z",
     "iopub.status.busy": "2025-03-08T12:10:21.345234Z",
     "iopub.status.idle": "2025-03-08T12:10:21.405515Z",
     "shell.execute_reply": "2025-03-08T12:10:21.404536Z"
    },
    "papermill": {
     "duration": 0.078273,
     "end_time": "2025-03-08T12:10:21.407673",
     "exception": false,
     "start_time": "2025-03-08T12:10:21.329400",
     "status": "completed"
    },
    "tags": []
   },
   "outputs": [],
   "source": [
    "scaler = StandardScaler()\n",
    "X_scaled = scaler.fit_transform(X)"
   ]
  },
  {
   "cell_type": "markdown",
   "id": "197dbf82",
   "metadata": {
    "papermill": {
     "duration": 0.014308,
     "end_time": "2025-03-08T12:10:21.436803",
     "exception": false,
     "start_time": "2025-03-08T12:10:21.422495",
     "status": "completed"
    },
    "tags": []
   },
   "source": [
    "Train-test split"
   ]
  },
  {
   "cell_type": "code",
   "execution_count": 22,
   "id": "5e4edc94",
   "metadata": {
    "execution": {
     "iopub.execute_input": "2025-03-08T12:10:21.467412Z",
     "iopub.status.busy": "2025-03-08T12:10:21.467027Z",
     "iopub.status.idle": "2025-03-08T12:10:21.521693Z",
     "shell.execute_reply": "2025-03-08T12:10:21.520628Z"
    },
    "papermill": {
     "duration": 0.072159,
     "end_time": "2025-03-08T12:10:21.523675",
     "exception": false,
     "start_time": "2025-03-08T12:10:21.451516",
     "status": "completed"
    },
    "tags": []
   },
   "outputs": [],
   "source": [
    "X_train, X_test, y_train, y_test = train_test_split(X_scaled, y, test_size=0.2, random_state=42, stratify=y)"
   ]
  },
  {
   "cell_type": "markdown",
   "id": "c83b527e",
   "metadata": {
    "papermill": {
     "duration": 0.014577,
     "end_time": "2025-03-08T12:10:21.553179",
     "exception": false,
     "start_time": "2025-03-08T12:10:21.538602",
     "status": "completed"
    },
    "tags": []
   },
   "source": [
    "# As a first approach, a Random Forest Classifier"
   ]
  },
  {
   "cell_type": "code",
   "execution_count": 23,
   "id": "dd062c62",
   "metadata": {
    "execution": {
     "iopub.execute_input": "2025-03-08T12:10:21.584263Z",
     "iopub.status.busy": "2025-03-08T12:10:21.583904Z",
     "iopub.status.idle": "2025-03-08T12:11:02.744134Z",
     "shell.execute_reply": "2025-03-08T12:11:02.742961Z"
    },
    "papermill": {
     "duration": 41.192924,
     "end_time": "2025-03-08T12:11:02.760912",
     "exception": false,
     "start_time": "2025-03-08T12:10:21.567988",
     "status": "completed"
    },
    "tags": []
   },
   "outputs": [
    {
     "name": "stdout",
     "output_type": "stream",
     "text": [
      "Accuracy: 0.98\n",
      "Confusion Matrix:\n",
      " [[11741   111    37]\n",
      " [  250  3542     0]\n",
      " [    2     0  4317]]\n",
      "Classification Report:\n",
      "               precision    recall  f1-score   support\n",
      "\n",
      "           0       0.98      0.99      0.98     11889\n",
      "           1       0.97      0.93      0.95      3792\n",
      "           2       0.99      1.00      1.00      4319\n",
      "\n",
      "    accuracy                           0.98     20000\n",
      "   macro avg       0.98      0.97      0.98     20000\n",
      "weighted avg       0.98      0.98      0.98     20000\n",
      "\n"
     ]
    }
   ],
   "source": [
    "# Initial Model - Random Forest\n",
    "model = RandomForestClassifier(n_estimators=100, random_state=42)\n",
    "model.fit(X_train, y_train)\n",
    "\n",
    "# Predictions\n",
    "y_pred = model.predict(X_test)\n",
    "\n",
    "# Evaluation\n",
    "print(\"Accuracy:\", accuracy_score(y_test, y_pred))\n",
    "print(\"Confusion Matrix:\\n\", confusion_matrix(y_test, y_pred))\n",
    "print(\"Classification Report:\\n\", classification_report(y_test, y_pred))\n"
   ]
  },
  {
   "cell_type": "code",
   "execution_count": 24,
   "id": "da62515b",
   "metadata": {
    "execution": {
     "iopub.execute_input": "2025-03-08T12:11:02.792445Z",
     "iopub.status.busy": "2025-03-08T12:11:02.792078Z",
     "iopub.status.idle": "2025-03-08T12:12:17.023331Z",
     "shell.execute_reply": "2025-03-08T12:12:17.021798Z"
    },
    "papermill": {
     "duration": 74.249317,
     "end_time": "2025-03-08T12:12:17.025343",
     "exception": false,
     "start_time": "2025-03-08T12:11:02.776026",
     "status": "completed"
    },
    "tags": []
   },
   "outputs": [
    {
     "name": "stdout",
     "output_type": "stream",
     "text": [
      "Random Forest Accuracy: 0.9788\n",
      "Classification Report:\n",
      "               precision    recall  f1-score   support\n",
      "\n",
      "           0       0.98      0.99      0.98     11889\n",
      "           1       0.97      0.93      0.95      3792\n",
      "           2       0.99      1.00      1.00      4319\n",
      "\n",
      "    accuracy                           0.98     20000\n",
      "   macro avg       0.98      0.97      0.98     20000\n",
      "weighted avg       0.98      0.98      0.98     20000\n",
      "\n"
     ]
    },
    {
     "data": {
      "image/png": "[encoded data removed]",
      "text/plain": [
       "<Figure size 600x500 with 2 Axes>"
      ]
     },
     "metadata": {},
     "output_type": "display_data"
    },
    {
     "data": {
      "image/png": "[encoded data removed]",
      "text/plain": [
       "<Figure size 800x600 with 1 Axes>"
      ]
     },
     "metadata": {},
     "output_type": "display_data"
    }
   ],
   "source": [
    "\n",
    "\n",
    "# Load your dataset\n",
    "#df= pd.read_csv(\"/kaggle/input/stellar-classification-dataset-sdss17/star_classification.csv\")\n",
    "\n",
    "# 🚀 **1. Drop unnecessary ID columns**\n",
    "#df = df.drop(columns=[\"obj_ID\", \"spec_obj_ID\", \"run_ID\", \"rerun_ID\", \"cam_col\", \"field_ID\", \"plate\", \"MJD\", \"fiber_ID\"])\n",
    "\n",
    "# 🚀 **2. Encode the target variable**\n",
    "#label_encoder = LabelEncoder()\n",
    "#df[\"class\"] = label_encoder.fit_transform(df[\"class\"])  # 0=Galaxy, 1=Star, 2=QSO\n",
    "\n",
    "# 🚀 **3. Feature Engineering: Adding New Features**\n",
    "# 3.1. Create color index features (Magnitude differences)\n",
    "#df[\"u-g\"] = df[\"u\"] - df[\"g\"]\n",
    "#df[\"g-r\"] = df[\"g\"] - df[\"r\"]\n",
    "#df[\"r-i\"] = df[\"r\"] - df[\"i\"]\n",
    "#df[\"i-z\"] = df[\"i\"] - df[\"z\"]\n",
    "\n",
    "# 3.2. Log Transformation for redshift (reduce skewness)\n",
    "#df[\"log_redshift\"] = np.log1p(df[\"redshift\"])  # log(1 + redshift) to avoid log(0)\n",
    "\n",
    "# 3.3. Spatial Features - Convert Right Ascension (RA) & Declination (DEC) into sin/cos\n",
    "#df[\"ra_sin\"] = np.sin(np.radians(df[\"alpha\"]))\n",
    "#df[\"ra_cos\"] = np.cos(np.radians(df[\"alpha\"]))\n",
    "#df[\"dec_sin\"] = np.sin(np.radians(df[\"delta\"]))\n",
    "#df[\"dec_cos\"] = np.cos(np.radians(df[\"delta\"]))\n",
    "\n",
    "# 🚀 **4. Drop original redshift column (since we now use log_redshift)**\n",
    "#df = df.drop(columns=[\"redshift\"])\n",
    "\n",
    "# 🚀 **5. Split features and target**\n",
    "#X = df.drop(columns=[\"class\"])\n",
    "#y = df[\"class\"]\n",
    "\n",
    "# 🚀 **6. Scale numerical features**\n",
    "#scaler = StandardScaler()\n",
    "#X_scaled = scaler.fit_transform(X)\n",
    "\n",
    "# 🚀 **7. Train-test split**\n",
    "#X_train, X_test, y_train, y_test = train_test_split(X_scaled, y, test_size=0.2, random_state=42, stratify=y)\n",
    "\n",
    "# 🚀 **8. Train Random Forest Model**\n",
    "rf = RandomForestClassifier(n_estimators=200, max_depth=15, random_state=42)\n",
    "rf.fit(X_train, y_train)\n",
    "\n",
    "# 🚀 **9. Make Predictions & Evaluate Model**\n",
    "y_pred = rf.predict(X_test)\n",
    "\n",
    "# Accuracy\n",
    "accuracy = accuracy_score(y_test, y_pred)\n",
    "print(f\"Random Forest Accuracy: {accuracy:.4f}\")\n",
    "\n",
    "# Classification Report\n",
    "print(\"Classification Report:\\n\", classification_report(y_test, y_pred))\n",
    "\n",
    "# 🚀 **10. Confusion Matrix Visualization**\n",
    "plt.figure(figsize=(6,5))\n",
    "sns.heatmap(confusion_matrix(y_test, y_pred), annot=True, fmt=\"d\", cmap=\"Blues\", xticklabels=label_encoder.classes_, yticklabels=label_encoder.classes_)\n",
    "plt.xlabel(\"Predicted\")\n",
    "plt.ylabel(\"Actual\")\n",
    "plt.title(\"Confusion Matrix\")\n",
    "plt.show()\n",
    "\n",
    "# 🚀 **11. Feature Importance Analysis**\n",
    "feature_importances = rf.feature_importances_\n",
    "feature_names = X.columns\n",
    "\n",
    "plt.figure(figsize=(8, 6))\n",
    "sns.barplot(x=feature_importances, y=feature_names, palette=\"viridis\")\n",
    "plt.xlabel(\"Importance Score\")\n",
    "plt.ylabel(\"Feature\")\n",
    "plt.title(\"Feature Importance in Random Forest\")\n",
    "plt.show()\n"
   ]
  }
 ],
 "metadata": {
  "kaggle": {
   "accelerator": "none",
   "dataSources": [
    {
     "datasetId": 1866141,
     "sourceId": 3047436,
     "sourceType": "datasetVersion"
    }
   ],
   "dockerImageVersionId": 30918,
   "isGpuEnabled": false,
   "isInternetEnabled": false,
   "language": "python",
   "sourceType": "notebook"
  },
  "kernelspec": {
   "display_name": "Python 3",
   "language": "python",
   "name": "python3"
  },
  "language_info": {
   "codemirror_mode": {
    "name": "ipython",
    "version": 3
   },
   "file_extension": ".py",
   "mimetype": "text/x-python",
   "name": "python",
   "nbconvert_exporter": "python",
   "pygments_lexer": "ipython3",
   "version": "3.10.12"
  },
  "papermill": {
   "default_parameters": {},
   "duration": 131.61355,
   "end_time": "2025-03-08T12:12:17.923285",
   "environment_variables": {},
   "exception": null,
   "input_path": "__notebook__.ipynb",
   "output_path": "__notebook__.ipynb",
   "parameters": {},
   "start_time": "2025-03-08T12:10:06.309735",
   "version": "2.6.0"
  }
 },
 "nbformat": 4,
 "nbformat_minor": 5
}
